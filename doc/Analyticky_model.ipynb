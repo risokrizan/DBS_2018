{
 "cells": [
  {
   "cell_type": "markdown",
   "metadata": {},
   "source": [
    "# Analytický report\n",
    "DBS 2018 - Križan Richard, Mizera Tomáš"
   ]
  },
  {
   "cell_type": "markdown",
   "metadata": {},
   "source": [
    "Pre analytický report je použitý python spolu s knižnicou pandas a numpy, pre lepšie, prehľadnejšie a jednoduchšie pracovanie s dátami. Ako prostredie je použitý jupyter notebook.\n",
    "\n",
    "Každá entita (jej zmysel, atribúty a vzťahy) je opísaná v dokumentácii - zložka doc, súbor readme.md. V dokumentácii je taktiež opísaný postup generácie dát aj prostredie a spôsob v akom boli dáta generované.\n",
    "\n",
    "Len pre potreby analytického reportu: projekt je písaný v jazyku Ruby s frameworkom on Rails a postgresql databázou, dáta sme generovali s nástrojou (v ruby gemom) Faker. Ruby ku každej entite pridáva 2 atribúty, a to dátum vytvorenia záznamu a dátum poslednej zmeny.\n",
    "\n",
    "Faker generuje dáta s minimom duplicitných dát, čo budeme môcť vidieť pri viacerých nominálnych atribútoch."
   ]
  },
  {
   "cell_type": "markdown",
   "metadata": {},
   "source": [
    "#### Príprava prostredia na analýzu (pripájanie na databázu)"
   ]
  },
  {
   "cell_type": "code",
   "execution_count": 2,
   "metadata": {},
   "outputs": [],
   "source": [
    "import psycopg2\n",
    "import sys\n",
    "import pandas as pd"
   ]
  },
  {
   "cell_type": "code",
   "execution_count": 3,
   "metadata": {},
   "outputs": [],
   "source": [
    "dsn_database = \"dbs_2018\"\n",
    "dsn_hostname = \"localhost\"\n",
    "dsn_port = \"5432\"\n",
    "dsn_uid = \"postgres\"\n",
    "dsn_pwd = \"\"\n"
   ]
  },
  {
   "cell_type": "code",
   "execution_count": 4,
   "metadata": {},
   "outputs": [
    {
     "name": "stdout",
     "output_type": "stream",
     "text": [
      "Connecting to database\n",
      "  -> host=localhost port=5432 dbname=dbs_2018 user=postgres password=\n",
      "Connected!\n",
      "\n"
     ]
    }
   ],
   "source": [
    "try:\n",
    "    conn_string = \"host=\"+dsn_hostname+\" port=\"+dsn_port+\" dbname=\"+dsn_database+\" user=\"+dsn_uid+\" password=\"+dsn_pwd\n",
    "    print (f'Connecting to database\\n  -> {conn_string}')\n",
    "    conn=psycopg2.connect(conn_string)\n",
    "    print (\"Connected!\\n\")\n",
    "except:\n",
    "    print (\"Unable to connect to the database.\")"
   ]
  },
  {
   "cell_type": "markdown",
   "metadata": {},
   "source": [
    "# Analýza jednotlivých entít"
   ]
  },
  {
   "cell_type": "markdown",
   "metadata": {},
   "source": [
    "Analyzovanie entít podľa kritérií na stránke predmetu"
   ]
  },
  {
   "cell_type": "markdown",
   "metadata": {},
   "source": [
    "## Entita customers"
   ]
  },
  {
   "cell_type": "code",
   "execution_count": 28,
   "metadata": {},
   "outputs": [],
   "source": [
    "customers = pd.read_sql('select * from customers', con=conn)"
   ]
  },
  {
   "cell_type": "code",
   "execution_count": 30,
   "metadata": {},
   "outputs": [
    {
     "data": {
      "text/html": [
       "<div>\n",
       "<style scoped>\n",
       "    .dataframe tbody tr th:only-of-type {\n",
       "        vertical-align: middle;\n",
       "    }\n",
       "\n",
       "    .dataframe tbody tr th {\n",
       "        vertical-align: top;\n",
       "    }\n",
       "\n",
       "    .dataframe thead th {\n",
       "        text-align: right;\n",
       "    }\n",
       "</style>\n",
       "<table border=\"1\" class=\"dataframe\">\n",
       "  <thead>\n",
       "    <tr style=\"text-align: right;\">\n",
       "      <th></th>\n",
       "      <th>id</th>\n",
       "      <th>first_name</th>\n",
       "      <th>last_name</th>\n",
       "      <th>birth_date</th>\n",
       "      <th>id_card_number</th>\n",
       "      <th>street</th>\n",
       "      <th>city</th>\n",
       "      <th>zip</th>\n",
       "      <th>street_number</th>\n",
       "      <th>created_at</th>\n",
       "      <th>updated_at</th>\n",
       "    </tr>\n",
       "  </thead>\n",
       "  <tbody>\n",
       "    <tr>\n",
       "      <th>0</th>\n",
       "      <td>1</td>\n",
       "      <td>Benny</td>\n",
       "      <td>Goodwin</td>\n",
       "      <td>1978-06-03</td>\n",
       "      <td>4061480</td>\n",
       "      <td>O'Reilly Overpass</td>\n",
       "      <td>East Salvador</td>\n",
       "      <td>62023</td>\n",
       "      <td>1864</td>\n",
       "      <td>2018-03-22 14:05:24.953434</td>\n",
       "      <td>2018-03-22 14:05:24.953434</td>\n",
       "    </tr>\n",
       "    <tr>\n",
       "      <th>1</th>\n",
       "      <td>2</td>\n",
       "      <td>Gerhard</td>\n",
       "      <td>Satterfield</td>\n",
       "      <td>1990-12-06</td>\n",
       "      <td>3225650</td>\n",
       "      <td>Klein Key</td>\n",
       "      <td>Chelseyside</td>\n",
       "      <td>90809</td>\n",
       "      <td>964</td>\n",
       "      <td>2018-03-22 14:05:24.960418</td>\n",
       "      <td>2018-03-22 14:05:24.960418</td>\n",
       "    </tr>\n",
       "    <tr>\n",
       "      <th>2</th>\n",
       "      <td>3</td>\n",
       "      <td>Marley</td>\n",
       "      <td>Murazik</td>\n",
       "      <td>1985-06-08</td>\n",
       "      <td>9831583</td>\n",
       "      <td>Barrows Rapids</td>\n",
       "      <td>East Ednaview</td>\n",
       "      <td>41451</td>\n",
       "      <td>8733</td>\n",
       "      <td>2018-03-22 14:05:24.968648</td>\n",
       "      <td>2018-03-22 14:05:24.968648</td>\n",
       "    </tr>\n",
       "    <tr>\n",
       "      <th>3</th>\n",
       "      <td>4</td>\n",
       "      <td>Jodie</td>\n",
       "      <td>Hessel</td>\n",
       "      <td>1986-11-18</td>\n",
       "      <td>2068099</td>\n",
       "      <td>Muller Mountain</td>\n",
       "      <td>North Morris</td>\n",
       "      <td>72260</td>\n",
       "      <td>7603</td>\n",
       "      <td>2018-03-22 14:05:24.973278</td>\n",
       "      <td>2018-03-22 14:05:24.973278</td>\n",
       "    </tr>\n",
       "    <tr>\n",
       "      <th>4</th>\n",
       "      <td>5</td>\n",
       "      <td>Janelle</td>\n",
       "      <td>Welch</td>\n",
       "      <td>1995-12-23</td>\n",
       "      <td>5036284</td>\n",
       "      <td>Runolfsdottir Stravenue</td>\n",
       "      <td>East Elveraburgh</td>\n",
       "      <td>37322</td>\n",
       "      <td>137</td>\n",
       "      <td>2018-03-22 14:05:24.978202</td>\n",
       "      <td>2018-03-22 14:05:24.978202</td>\n",
       "    </tr>\n",
       "    <tr>\n",
       "      <th>5</th>\n",
       "      <td>6</td>\n",
       "      <td>Sierra</td>\n",
       "      <td>VonRueden</td>\n",
       "      <td>1965-10-13</td>\n",
       "      <td>5322742</td>\n",
       "      <td>Marty Lock</td>\n",
       "      <td>West Dagmarville</td>\n",
       "      <td>24773</td>\n",
       "      <td>26836</td>\n",
       "      <td>2018-03-22 14:05:24.984350</td>\n",
       "      <td>2018-03-22 14:05:24.984350</td>\n",
       "    </tr>\n",
       "    <tr>\n",
       "      <th>6</th>\n",
       "      <td>7</td>\n",
       "      <td>Ova</td>\n",
       "      <td>Pfannerstill</td>\n",
       "      <td>1973-02-11</td>\n",
       "      <td>8127471</td>\n",
       "      <td>Wilderman Corners</td>\n",
       "      <td>Port Abbieton</td>\n",
       "      <td>28741</td>\n",
       "      <td>607</td>\n",
       "      <td>2018-03-22 14:05:24.989368</td>\n",
       "      <td>2018-03-22 14:05:24.989368</td>\n",
       "    </tr>\n",
       "    <tr>\n",
       "      <th>7</th>\n",
       "      <td>8</td>\n",
       "      <td>Kristoffer</td>\n",
       "      <td>Auer</td>\n",
       "      <td>1990-05-21</td>\n",
       "      <td>7690579</td>\n",
       "      <td>Bernhard Shoal</td>\n",
       "      <td>Lake Evabury</td>\n",
       "      <td>83528</td>\n",
       "      <td>541</td>\n",
       "      <td>2018-03-22 14:05:24.993886</td>\n",
       "      <td>2018-03-22 14:05:24.993886</td>\n",
       "    </tr>\n",
       "    <tr>\n",
       "      <th>8</th>\n",
       "      <td>9</td>\n",
       "      <td>Brielle</td>\n",
       "      <td>O'Kon</td>\n",
       "      <td>1971-11-04</td>\n",
       "      <td>2005133</td>\n",
       "      <td>Royal Points</td>\n",
       "      <td>Port Jean</td>\n",
       "      <td>19153</td>\n",
       "      <td>3727</td>\n",
       "      <td>2018-03-22 14:05:24.998589</td>\n",
       "      <td>2018-03-22 14:05:24.998589</td>\n",
       "    </tr>\n",
       "    <tr>\n",
       "      <th>9</th>\n",
       "      <td>10</td>\n",
       "      <td>Nathaniel</td>\n",
       "      <td>Roberts</td>\n",
       "      <td>1989-12-08</td>\n",
       "      <td>4722284</td>\n",
       "      <td>Manuel Run</td>\n",
       "      <td>Codyville</td>\n",
       "      <td>59946</td>\n",
       "      <td>240</td>\n",
       "      <td>2018-03-22 14:05:25.003026</td>\n",
       "      <td>2018-03-22 14:05:25.003026</td>\n",
       "    </tr>\n",
       "  </tbody>\n",
       "</table>\n",
       "</div>"
      ],
      "text/plain": [
       "   id  first_name     last_name  birth_date id_card_number  \\\n",
       "0   1       Benny       Goodwin  1978-06-03        4061480   \n",
       "1   2     Gerhard   Satterfield  1990-12-06        3225650   \n",
       "2   3      Marley       Murazik  1985-06-08        9831583   \n",
       "3   4       Jodie        Hessel  1986-11-18        2068099   \n",
       "4   5     Janelle         Welch  1995-12-23        5036284   \n",
       "5   6      Sierra     VonRueden  1965-10-13        5322742   \n",
       "6   7         Ova  Pfannerstill  1973-02-11        8127471   \n",
       "7   8  Kristoffer          Auer  1990-05-21        7690579   \n",
       "8   9     Brielle         O'Kon  1971-11-04        2005133   \n",
       "9  10   Nathaniel       Roberts  1989-12-08        4722284   \n",
       "\n",
       "                    street              city    zip  street_number  \\\n",
       "0        O'Reilly Overpass     East Salvador  62023           1864   \n",
       "1                Klein Key       Chelseyside  90809            964   \n",
       "2           Barrows Rapids     East Ednaview  41451           8733   \n",
       "3          Muller Mountain      North Morris  72260           7603   \n",
       "4  Runolfsdottir Stravenue  East Elveraburgh  37322            137   \n",
       "5               Marty Lock  West Dagmarville  24773          26836   \n",
       "6        Wilderman Corners     Port Abbieton  28741            607   \n",
       "7           Bernhard Shoal      Lake Evabury  83528            541   \n",
       "8             Royal Points         Port Jean  19153           3727   \n",
       "9               Manuel Run         Codyville  59946            240   \n",
       "\n",
       "                  created_at                 updated_at  \n",
       "0 2018-03-22 14:05:24.953434 2018-03-22 14:05:24.953434  \n",
       "1 2018-03-22 14:05:24.960418 2018-03-22 14:05:24.960418  \n",
       "2 2018-03-22 14:05:24.968648 2018-03-22 14:05:24.968648  \n",
       "3 2018-03-22 14:05:24.973278 2018-03-22 14:05:24.973278  \n",
       "4 2018-03-22 14:05:24.978202 2018-03-22 14:05:24.978202  \n",
       "5 2018-03-22 14:05:24.984350 2018-03-22 14:05:24.984350  \n",
       "6 2018-03-22 14:05:24.989368 2018-03-22 14:05:24.989368  \n",
       "7 2018-03-22 14:05:24.993886 2018-03-22 14:05:24.993886  \n",
       "8 2018-03-22 14:05:24.998589 2018-03-22 14:05:24.998589  \n",
       "9 2018-03-22 14:05:25.003026 2018-03-22 14:05:25.003026  "
      ]
     },
     "execution_count": 30,
     "metadata": {},
     "output_type": "execute_result"
    }
   ],
   "source": [
    "customers.head(10)"
   ]
  },
  {
   "cell_type": "markdown",
   "metadata": {},
   "source": [
    "Počet riadkov"
   ]
  },
  {
   "cell_type": "code",
   "execution_count": 30,
   "metadata": {},
   "outputs": [
    {
     "data": {
      "text/plain": [
       "1000000"
      ]
     },
     "execution_count": 30,
     "metadata": {},
     "output_type": "execute_result"
    }
   ],
   "source": [
    "customers.shape[0]"
   ]
  },
  {
   "cell_type": "markdown",
   "metadata": {},
   "source": [
    "Entita customers obsahuje iba nominálne atribúty ako street_number, zip, id_card_number, meno, dátum narodenia... Pre tieto vyjadríme iba početnosť rôznych hodnôt, nakoľko vygenerovaných záznamov je priveľa na zobrazenie.\n",
    "\n",
    "Pre jednoduchosť zobrazíme 3 z týchto atribútov:"
   ]
  },
  {
   "cell_type": "code",
   "execution_count": 23,
   "metadata": {},
   "outputs": [
    {
     "data": {
      "text/plain": [
       "97672"
      ]
     },
     "execution_count": 23,
     "metadata": {},
     "output_type": "execute_result"
    }
   ],
   "source": [
    "customers['street_number'].nunique()"
   ]
  },
  {
   "cell_type": "code",
   "execution_count": 24,
   "metadata": {},
   "outputs": [
    {
     "data": {
      "text/plain": [
       "89999"
      ]
     },
     "execution_count": 24,
     "metadata": {},
     "output_type": "execute_result"
    }
   ],
   "source": [
    "customers['zip'].nunique()"
   ]
  },
  {
   "cell_type": "code",
   "execution_count": 25,
   "metadata": {},
   "outputs": [
    {
     "data": {
      "text/plain": [
       "946261"
      ]
     },
     "execution_count": 25,
     "metadata": {},
     "output_type": "execute_result"
    }
   ],
   "source": [
    "customers['id_card_number'].nunique()"
   ]
  },
  {
   "cell_type": "markdown",
   "metadata": {},
   "source": [
    "## Entita computers"
   ]
  },
  {
   "cell_type": "code",
   "execution_count": null,
   "metadata": {},
   "outputs": [],
   "source": [
    "computers = pd.read_sql('select * from computers', con=conn)"
   ]
  },
  {
   "cell_type": "code",
   "execution_count": 25,
   "metadata": {},
   "outputs": [
    {
     "data": {
      "text/html": [
       "<div>\n",
       "<style scoped>\n",
       "    .dataframe tbody tr th:only-of-type {\n",
       "        vertical-align: middle;\n",
       "    }\n",
       "\n",
       "    .dataframe tbody tr th {\n",
       "        vertical-align: top;\n",
       "    }\n",
       "\n",
       "    .dataframe thead th {\n",
       "        text-align: right;\n",
       "    }\n",
       "</style>\n",
       "<table border=\"1\" class=\"dataframe\">\n",
       "  <thead>\n",
       "    <tr style=\"text-align: right;\">\n",
       "      <th></th>\n",
       "      <th>id</th>\n",
       "      <th>cpu_name</th>\n",
       "      <th>cpu_clock</th>\n",
       "      <th>cpu_cores</th>\n",
       "      <th>gpu_name</th>\n",
       "      <th>gpu_clock</th>\n",
       "      <th>gpu_cores</th>\n",
       "      <th>created_at</th>\n",
       "      <th>updated_at</th>\n",
       "      <th>customer_id</th>\n",
       "    </tr>\n",
       "  </thead>\n",
       "  <tbody>\n",
       "    <tr>\n",
       "      <th>0</th>\n",
       "      <td>1</td>\n",
       "      <td>doloremque</td>\n",
       "      <td>3.17</td>\n",
       "      <td>14</td>\n",
       "      <td>animi</td>\n",
       "      <td>6.29</td>\n",
       "      <td>31</td>\n",
       "      <td>2018-03-22 20:51:36.543557</td>\n",
       "      <td>2018-03-22 20:51:36.543557</td>\n",
       "      <td>721</td>\n",
       "    </tr>\n",
       "    <tr>\n",
       "      <th>1</th>\n",
       "      <td>2</td>\n",
       "      <td>neque</td>\n",
       "      <td>4.59</td>\n",
       "      <td>10</td>\n",
       "      <td>repellat</td>\n",
       "      <td>7.86</td>\n",
       "      <td>22</td>\n",
       "      <td>2018-03-22 20:51:36.550697</td>\n",
       "      <td>2018-03-22 20:51:36.550697</td>\n",
       "      <td>63</td>\n",
       "    </tr>\n",
       "    <tr>\n",
       "      <th>2</th>\n",
       "      <td>3</td>\n",
       "      <td>harum</td>\n",
       "      <td>6.34</td>\n",
       "      <td>8</td>\n",
       "      <td>necessitatibus</td>\n",
       "      <td>7.11</td>\n",
       "      <td>27</td>\n",
       "      <td>2018-03-22 20:51:36.556375</td>\n",
       "      <td>2018-03-22 20:51:36.556375</td>\n",
       "      <td>735</td>\n",
       "    </tr>\n",
       "    <tr>\n",
       "      <th>3</th>\n",
       "      <td>4</td>\n",
       "      <td>placeat</td>\n",
       "      <td>4.82</td>\n",
       "      <td>3</td>\n",
       "      <td>dicta</td>\n",
       "      <td>8.55</td>\n",
       "      <td>1</td>\n",
       "      <td>2018-03-22 20:51:36.561837</td>\n",
       "      <td>2018-03-22 20:51:36.561837</td>\n",
       "      <td>493</td>\n",
       "    </tr>\n",
       "    <tr>\n",
       "      <th>4</th>\n",
       "      <td>5</td>\n",
       "      <td>nam</td>\n",
       "      <td>5.63</td>\n",
       "      <td>7</td>\n",
       "      <td>odit</td>\n",
       "      <td>3.45</td>\n",
       "      <td>27</td>\n",
       "      <td>2018-03-22 20:51:36.567102</td>\n",
       "      <td>2018-03-22 20:51:36.567102</td>\n",
       "      <td>702</td>\n",
       "    </tr>\n",
       "    <tr>\n",
       "      <th>5</th>\n",
       "      <td>6</td>\n",
       "      <td>doloremque</td>\n",
       "      <td>7.72</td>\n",
       "      <td>3</td>\n",
       "      <td>aut</td>\n",
       "      <td>2.57</td>\n",
       "      <td>25</td>\n",
       "      <td>2018-03-22 20:51:36.572245</td>\n",
       "      <td>2018-03-22 20:51:36.572245</td>\n",
       "      <td>6</td>\n",
       "    </tr>\n",
       "    <tr>\n",
       "      <th>6</th>\n",
       "      <td>7</td>\n",
       "      <td>ipsum</td>\n",
       "      <td>7.68</td>\n",
       "      <td>11</td>\n",
       "      <td>voluptas</td>\n",
       "      <td>7.01</td>\n",
       "      <td>23</td>\n",
       "      <td>2018-03-22 20:51:36.577430</td>\n",
       "      <td>2018-03-22 20:51:36.577430</td>\n",
       "      <td>12</td>\n",
       "    </tr>\n",
       "    <tr>\n",
       "      <th>7</th>\n",
       "      <td>8</td>\n",
       "      <td>commodi</td>\n",
       "      <td>4.96</td>\n",
       "      <td>16</td>\n",
       "      <td>deserunt</td>\n",
       "      <td>1.15</td>\n",
       "      <td>29</td>\n",
       "      <td>2018-03-22 20:51:36.582718</td>\n",
       "      <td>2018-03-22 20:51:36.582718</td>\n",
       "      <td>366</td>\n",
       "    </tr>\n",
       "    <tr>\n",
       "      <th>8</th>\n",
       "      <td>9</td>\n",
       "      <td>atque</td>\n",
       "      <td>0.55</td>\n",
       "      <td>6</td>\n",
       "      <td>atque</td>\n",
       "      <td>9.04</td>\n",
       "      <td>10</td>\n",
       "      <td>2018-03-22 20:51:36.588160</td>\n",
       "      <td>2018-03-22 20:51:36.588160</td>\n",
       "      <td>329</td>\n",
       "    </tr>\n",
       "    <tr>\n",
       "      <th>9</th>\n",
       "      <td>10</td>\n",
       "      <td>voluptatum</td>\n",
       "      <td>4.73</td>\n",
       "      <td>12</td>\n",
       "      <td>ullam</td>\n",
       "      <td>1.47</td>\n",
       "      <td>6</td>\n",
       "      <td>2018-03-22 20:51:36.593614</td>\n",
       "      <td>2018-03-22 20:51:36.593614</td>\n",
       "      <td>801</td>\n",
       "    </tr>\n",
       "  </tbody>\n",
       "</table>\n",
       "</div>"
      ],
      "text/plain": [
       "   id    cpu_name  cpu_clock  cpu_cores        gpu_name  gpu_clock  gpu_cores  \\\n",
       "0   1  doloremque       3.17         14           animi       6.29         31   \n",
       "1   2       neque       4.59         10        repellat       7.86         22   \n",
       "2   3       harum       6.34          8  necessitatibus       7.11         27   \n",
       "3   4     placeat       4.82          3           dicta       8.55          1   \n",
       "4   5         nam       5.63          7            odit       3.45         27   \n",
       "5   6  doloremque       7.72          3             aut       2.57         25   \n",
       "6   7       ipsum       7.68         11        voluptas       7.01         23   \n",
       "7   8     commodi       4.96         16        deserunt       1.15         29   \n",
       "8   9       atque       0.55          6           atque       9.04         10   \n",
       "9  10  voluptatum       4.73         12           ullam       1.47          6   \n",
       "\n",
       "                  created_at                 updated_at  customer_id  \n",
       "0 2018-03-22 20:51:36.543557 2018-03-22 20:51:36.543557          721  \n",
       "1 2018-03-22 20:51:36.550697 2018-03-22 20:51:36.550697           63  \n",
       "2 2018-03-22 20:51:36.556375 2018-03-22 20:51:36.556375          735  \n",
       "3 2018-03-22 20:51:36.561837 2018-03-22 20:51:36.561837          493  \n",
       "4 2018-03-22 20:51:36.567102 2018-03-22 20:51:36.567102          702  \n",
       "5 2018-03-22 20:51:36.572245 2018-03-22 20:51:36.572245            6  \n",
       "6 2018-03-22 20:51:36.577430 2018-03-22 20:51:36.577430           12  \n",
       "7 2018-03-22 20:51:36.582718 2018-03-22 20:51:36.582718          366  \n",
       "8 2018-03-22 20:51:36.588160 2018-03-22 20:51:36.588160          329  \n",
       "9 2018-03-22 20:51:36.593614 2018-03-22 20:51:36.593614          801  "
      ]
     },
     "execution_count": 25,
     "metadata": {},
     "output_type": "execute_result"
    }
   ],
   "source": [
    "computers.head(10)"
   ]
  },
  {
   "cell_type": "markdown",
   "metadata": {},
   "source": [
    "Počet riadkov:"
   ]
  },
  {
   "cell_type": "code",
   "execution_count": 29,
   "metadata": {},
   "outputs": [
    {
     "data": {
      "text/plain": [
       "1012257"
      ]
     },
     "execution_count": 29,
     "metadata": {},
     "output_type": "execute_result"
    }
   ],
   "source": [
    "computers.shape[0]"
   ]
  },
  {
   "cell_type": "markdown",
   "metadata": {},
   "source": [
    "Entita computers obsahuje viaceré doménové numerické atribúty - cpu_clock, cpu_cores, gpu_clock a gpu_cores, pre tieto vypočítame základné deskriptívne štatistiky:"
   ]
  },
  {
   "cell_type": "code",
   "execution_count": 31,
   "metadata": {},
   "outputs": [
    {
     "data": {
      "text/html": [
       "<div>\n",
       "<style scoped>\n",
       "    .dataframe tbody tr th:only-of-type {\n",
       "        vertical-align: middle;\n",
       "    }\n",
       "\n",
       "    .dataframe tbody tr th {\n",
       "        vertical-align: top;\n",
       "    }\n",
       "\n",
       "    .dataframe thead th {\n",
       "        text-align: right;\n",
       "    }\n",
       "</style>\n",
       "<table border=\"1\" class=\"dataframe\">\n",
       "  <thead>\n",
       "    <tr style=\"text-align: right;\">\n",
       "      <th></th>\n",
       "      <th>cpu_clock</th>\n",
       "      <th>cpu_cores</th>\n",
       "      <th>gpu_clock</th>\n",
       "      <th>gpu_cores</th>\n",
       "    </tr>\n",
       "  </thead>\n",
       "  <tbody>\n",
       "    <tr>\n",
       "      <th>count</th>\n",
       "      <td>1.012257e+06</td>\n",
       "      <td>1.012257e+06</td>\n",
       "      <td>1.012257e+06</td>\n",
       "      <td>1.012257e+06</td>\n",
       "    </tr>\n",
       "    <tr>\n",
       "      <th>mean</th>\n",
       "      <td>4.999323e+00</td>\n",
       "      <td>8.501203e+00</td>\n",
       "      <td>4.995111e+00</td>\n",
       "      <td>1.650285e+01</td>\n",
       "    </tr>\n",
       "    <tr>\n",
       "      <th>std</th>\n",
       "      <td>2.887521e+00</td>\n",
       "      <td>4.612316e+00</td>\n",
       "      <td>2.885457e+00</td>\n",
       "      <td>9.239202e+00</td>\n",
       "    </tr>\n",
       "    <tr>\n",
       "      <th>min</th>\n",
       "      <td>1.000000e-02</td>\n",
       "      <td>1.000000e+00</td>\n",
       "      <td>1.000000e-02</td>\n",
       "      <td>1.000000e+00</td>\n",
       "    </tr>\n",
       "    <tr>\n",
       "      <th>25%</th>\n",
       "      <td>2.490000e+00</td>\n",
       "      <td>4.000000e+00</td>\n",
       "      <td>2.510000e+00</td>\n",
       "      <td>8.000000e+00</td>\n",
       "    </tr>\n",
       "    <tr>\n",
       "      <th>50%</th>\n",
       "      <td>4.990000e+00</td>\n",
       "      <td>9.000000e+00</td>\n",
       "      <td>4.980000e+00</td>\n",
       "      <td>1.700000e+01</td>\n",
       "    </tr>\n",
       "    <tr>\n",
       "      <th>75%</th>\n",
       "      <td>7.510000e+00</td>\n",
       "      <td>1.300000e+01</td>\n",
       "      <td>7.490000e+00</td>\n",
       "      <td>2.500000e+01</td>\n",
       "    </tr>\n",
       "    <tr>\n",
       "      <th>max</th>\n",
       "      <td>9.990000e+00</td>\n",
       "      <td>1.600000e+01</td>\n",
       "      <td>9.990000e+00</td>\n",
       "      <td>3.200000e+01</td>\n",
       "    </tr>\n",
       "  </tbody>\n",
       "</table>\n",
       "</div>"
      ],
      "text/plain": [
       "          cpu_clock     cpu_cores     gpu_clock     gpu_cores\n",
       "count  1.012257e+06  1.012257e+06  1.012257e+06  1.012257e+06\n",
       "mean   4.999323e+00  8.501203e+00  4.995111e+00  1.650285e+01\n",
       "std    2.887521e+00  4.612316e+00  2.885457e+00  9.239202e+00\n",
       "min    1.000000e-02  1.000000e+00  1.000000e-02  1.000000e+00\n",
       "25%    2.490000e+00  4.000000e+00  2.510000e+00  8.000000e+00\n",
       "50%    4.990000e+00  9.000000e+00  4.980000e+00  1.700000e+01\n",
       "75%    7.510000e+00  1.300000e+01  7.490000e+00  2.500000e+01\n",
       "max    9.990000e+00  1.600000e+01  9.990000e+00  3.200000e+01"
      ]
     },
     "execution_count": 31,
     "metadata": {},
     "output_type": "execute_result"
    }
   ],
   "source": [
    "computers[['cpu_clock', 'cpu_cores', 'gpu_clock', 'gpu_cores']].describe()"
   ]
  },
  {
   "cell_type": "markdown",
   "metadata": {},
   "source": [
    "Priemerný počet počítačov na jedného zákazníka banky:"
   ]
  },
  {
   "cell_type": "code",
   "execution_count": 67,
   "metadata": {},
   "outputs": [
    {
     "data": {
      "text/plain": [
       "1.012257"
      ]
     },
     "execution_count": 67,
     "metadata": {},
     "output_type": "execute_result"
    }
   ],
   "source": [
    "computers.groupby(['customer_id']).size().sum()/1000000"
   ]
  },
  {
   "cell_type": "markdown",
   "metadata": {},
   "source": [
    "## Entita banks"
   ]
  },
  {
   "cell_type": "code",
   "execution_count": 41,
   "metadata": {},
   "outputs": [],
   "source": [
    "banks = pd.read_sql('select * from banks', con=conn)"
   ]
  },
  {
   "cell_type": "code",
   "execution_count": 72,
   "metadata": {},
   "outputs": [
    {
     "data": {
      "text/html": [
       "<div>\n",
       "<style scoped>\n",
       "    .dataframe tbody tr th:only-of-type {\n",
       "        vertical-align: middle;\n",
       "    }\n",
       "\n",
       "    .dataframe tbody tr th {\n",
       "        vertical-align: top;\n",
       "    }\n",
       "\n",
       "    .dataframe thead th {\n",
       "        text-align: right;\n",
       "    }\n",
       "</style>\n",
       "<table border=\"1\" class=\"dataframe\">\n",
       "  <thead>\n",
       "    <tr style=\"text-align: right;\">\n",
       "      <th></th>\n",
       "      <th>id</th>\n",
       "      <th>bank_name</th>\n",
       "      <th>street</th>\n",
       "      <th>city</th>\n",
       "      <th>estabilished_date</th>\n",
       "      <th>created_at</th>\n",
       "      <th>updated_at</th>\n",
       "      <th>street_number</th>\n",
       "    </tr>\n",
       "  </thead>\n",
       "  <tbody>\n",
       "    <tr>\n",
       "      <th>0</th>\n",
       "      <td>1</td>\n",
       "      <td>Rempel, Rath and Nitzsche</td>\n",
       "      <td>Herminio Light</td>\n",
       "      <td>Wernerland</td>\n",
       "      <td>1978-05-20</td>\n",
       "      <td>2018-03-22 15:20:53.932154</td>\n",
       "      <td>2018-03-22 15:20:53.932154</td>\n",
       "      <td>8586</td>\n",
       "    </tr>\n",
       "    <tr>\n",
       "      <th>1</th>\n",
       "      <td>2</td>\n",
       "      <td>Crooks, Hintz and Denesik</td>\n",
       "      <td>Morar Wells</td>\n",
       "      <td>East Eltonfurt</td>\n",
       "      <td>1992-01-15</td>\n",
       "      <td>2018-03-22 15:20:53.936379</td>\n",
       "      <td>2018-03-22 15:20:53.936379</td>\n",
       "      <td>538</td>\n",
       "    </tr>\n",
       "    <tr>\n",
       "      <th>2</th>\n",
       "      <td>3</td>\n",
       "      <td>McGlynn, Kreiger and Greenholt</td>\n",
       "      <td>Fahey Cape</td>\n",
       "      <td>Lake Kaylee</td>\n",
       "      <td>2010-09-08</td>\n",
       "      <td>2018-03-22 15:20:53.940176</td>\n",
       "      <td>2018-03-22 15:20:53.940176</td>\n",
       "      <td>1388</td>\n",
       "    </tr>\n",
       "    <tr>\n",
       "      <th>3</th>\n",
       "      <td>4</td>\n",
       "      <td>McClure, Simonis and O'Kon</td>\n",
       "      <td>Heaney Plains</td>\n",
       "      <td>South Mariastad</td>\n",
       "      <td>1994-09-03</td>\n",
       "      <td>2018-03-22 15:20:53.943988</td>\n",
       "      <td>2018-03-22 15:20:53.943988</td>\n",
       "      <td>4504</td>\n",
       "    </tr>\n",
       "    <tr>\n",
       "      <th>4</th>\n",
       "      <td>5</td>\n",
       "      <td>Smith LLC</td>\n",
       "      <td>Marquise Meadows</td>\n",
       "      <td>Emmaburgh</td>\n",
       "      <td>1887-08-24</td>\n",
       "      <td>2018-03-22 15:20:53.947756</td>\n",
       "      <td>2018-03-22 15:20:53.947756</td>\n",
       "      <td>12781</td>\n",
       "    </tr>\n",
       "    <tr>\n",
       "      <th>5</th>\n",
       "      <td>6</td>\n",
       "      <td>Feest-Ebert</td>\n",
       "      <td>Vito Course</td>\n",
       "      <td>Kiarrabury</td>\n",
       "      <td>1965-11-21</td>\n",
       "      <td>2018-03-22 15:20:53.951475</td>\n",
       "      <td>2018-03-22 15:20:53.951475</td>\n",
       "      <td>52893</td>\n",
       "    </tr>\n",
       "    <tr>\n",
       "      <th>6</th>\n",
       "      <td>7</td>\n",
       "      <td>Ondricka-Dietrich</td>\n",
       "      <td>DuBuque Flat</td>\n",
       "      <td>Port Kristina</td>\n",
       "      <td>1761-03-08</td>\n",
       "      <td>2018-03-22 15:20:53.955267</td>\n",
       "      <td>2018-03-22 15:20:53.955267</td>\n",
       "      <td>7032</td>\n",
       "    </tr>\n",
       "    <tr>\n",
       "      <th>7</th>\n",
       "      <td>8</td>\n",
       "      <td>Beier-Collier</td>\n",
       "      <td>Rohan Circles</td>\n",
       "      <td>East Harvey</td>\n",
       "      <td>1983-11-05</td>\n",
       "      <td>2018-03-22 15:20:53.959106</td>\n",
       "      <td>2018-03-22 15:20:53.959106</td>\n",
       "      <td>91481</td>\n",
       "    </tr>\n",
       "    <tr>\n",
       "      <th>8</th>\n",
       "      <td>9</td>\n",
       "      <td>Purdy, Parker and Kutch</td>\n",
       "      <td>Keenan Circles</td>\n",
       "      <td>Naderland</td>\n",
       "      <td>1886-08-03</td>\n",
       "      <td>2018-03-22 15:20:53.962917</td>\n",
       "      <td>2018-03-22 15:20:53.962917</td>\n",
       "      <td>60928</td>\n",
       "    </tr>\n",
       "    <tr>\n",
       "      <th>9</th>\n",
       "      <td>10</td>\n",
       "      <td>Brakus-Marquardt</td>\n",
       "      <td>Schulist Walk</td>\n",
       "      <td>Wisokyside</td>\n",
       "      <td>2000-01-22</td>\n",
       "      <td>2018-03-22 15:20:53.966887</td>\n",
       "      <td>2018-03-22 15:20:53.966887</td>\n",
       "      <td>4467</td>\n",
       "    </tr>\n",
       "  </tbody>\n",
       "</table>\n",
       "</div>"
      ],
      "text/plain": [
       "   id                       bank_name            street             city  \\\n",
       "0   1       Rempel, Rath and Nitzsche    Herminio Light       Wernerland   \n",
       "1   2       Crooks, Hintz and Denesik       Morar Wells   East Eltonfurt   \n",
       "2   3  McGlynn, Kreiger and Greenholt        Fahey Cape      Lake Kaylee   \n",
       "3   4      McClure, Simonis and O'Kon     Heaney Plains  South Mariastad   \n",
       "4   5                       Smith LLC  Marquise Meadows        Emmaburgh   \n",
       "5   6                     Feest-Ebert       Vito Course       Kiarrabury   \n",
       "6   7               Ondricka-Dietrich      DuBuque Flat    Port Kristina   \n",
       "7   8                   Beier-Collier     Rohan Circles      East Harvey   \n",
       "8   9         Purdy, Parker and Kutch    Keenan Circles        Naderland   \n",
       "9  10                Brakus-Marquardt     Schulist Walk       Wisokyside   \n",
       "\n",
       "  estabilished_date                 created_at                 updated_at  \\\n",
       "0        1978-05-20 2018-03-22 15:20:53.932154 2018-03-22 15:20:53.932154   \n",
       "1        1992-01-15 2018-03-22 15:20:53.936379 2018-03-22 15:20:53.936379   \n",
       "2        2010-09-08 2018-03-22 15:20:53.940176 2018-03-22 15:20:53.940176   \n",
       "3        1994-09-03 2018-03-22 15:20:53.943988 2018-03-22 15:20:53.943988   \n",
       "4        1887-08-24 2018-03-22 15:20:53.947756 2018-03-22 15:20:53.947756   \n",
       "5        1965-11-21 2018-03-22 15:20:53.951475 2018-03-22 15:20:53.951475   \n",
       "6        1761-03-08 2018-03-22 15:20:53.955267 2018-03-22 15:20:53.955267   \n",
       "7        1983-11-05 2018-03-22 15:20:53.959106 2018-03-22 15:20:53.959106   \n",
       "8        1886-08-03 2018-03-22 15:20:53.962917 2018-03-22 15:20:53.962917   \n",
       "9        2000-01-22 2018-03-22 15:20:53.966887 2018-03-22 15:20:53.966887   \n",
       "\n",
       "   street_number  \n",
       "0           8586  \n",
       "1            538  \n",
       "2           1388  \n",
       "3           4504  \n",
       "4          12781  \n",
       "5          52893  \n",
       "6           7032  \n",
       "7          91481  \n",
       "8          60928  \n",
       "9           4467  "
      ]
     },
     "execution_count": 72,
     "metadata": {},
     "output_type": "execute_result"
    }
   ],
   "source": [
    "banks.head(10)"
   ]
  },
  {
   "cell_type": "markdown",
   "metadata": {},
   "source": [
    "Počet riadkov:"
   ]
  },
  {
   "cell_type": "code",
   "execution_count": 28,
   "metadata": {},
   "outputs": [
    {
     "data": {
      "text/plain": [
       "1000000"
      ]
     },
     "execution_count": 28,
     "metadata": {},
     "output_type": "execute_result"
    }
   ],
   "source": [
    "banks.shape[0]"
   ]
  },
  {
   "cell_type": "markdown",
   "metadata": {},
   "source": [
    "Entita banks obsahuje iba nominálne atribúty ako street, city, bank_name, id,... Pre tieto vyjadríme iba početnosť rôznych hodnôt, nakoľko vygenerovaných záznamov je priveľa na zobrazenie."
   ]
  },
  {
   "cell_type": "code",
   "execution_count": 73,
   "metadata": {},
   "outputs": [
    {
     "data": {
      "text/plain": [
       "1000000"
      ]
     },
     "execution_count": 73,
     "metadata": {},
     "output_type": "execute_result"
    }
   ],
   "source": [
    "banks['bank_name'].nunique()"
   ]
  },
  {
   "cell_type": "code",
   "execution_count": 74,
   "metadata": {},
   "outputs": [
    {
     "data": {
      "text/plain": [
       "415147"
      ]
     },
     "execution_count": 74,
     "metadata": {},
     "output_type": "execute_result"
    }
   ],
   "source": [
    "banks['street'].nunique()"
   ]
  },
  {
   "cell_type": "code",
   "execution_count": 75,
   "metadata": {},
   "outputs": [
    {
     "data": {
      "text/plain": [
       "263333"
      ]
     },
     "execution_count": 75,
     "metadata": {},
     "output_type": "execute_result"
    }
   ],
   "source": [
    "banks['city'].nunique()"
   ]
  },
  {
   "cell_type": "markdown",
   "metadata": {},
   "source": [
    "## Entita accounts"
   ]
  },
  {
   "cell_type": "code",
   "execution_count": 5,
   "metadata": {},
   "outputs": [],
   "source": [
    "accounts = pd.read_sql('select * from accounts', con=conn)"
   ]
  },
  {
   "cell_type": "code",
   "execution_count": 50,
   "metadata": {},
   "outputs": [
    {
     "data": {
      "text/html": [
       "<div>\n",
       "<style scoped>\n",
       "    .dataframe tbody tr th:only-of-type {\n",
       "        vertical-align: middle;\n",
       "    }\n",
       "\n",
       "    .dataframe tbody tr th {\n",
       "        vertical-align: top;\n",
       "    }\n",
       "\n",
       "    .dataframe thead th {\n",
       "        text-align: right;\n",
       "    }\n",
       "</style>\n",
       "<table border=\"1\" class=\"dataframe\">\n",
       "  <thead>\n",
       "    <tr style=\"text-align: right;\">\n",
       "      <th></th>\n",
       "      <th>id</th>\n",
       "      <th>number</th>\n",
       "      <th>balance</th>\n",
       "      <th>created_at</th>\n",
       "      <th>updated_at</th>\n",
       "      <th>customer_id</th>\n",
       "      <th>bank_id</th>\n",
       "      <th>currency_id</th>\n",
       "      <th>acc_type_id</th>\n",
       "    </tr>\n",
       "  </thead>\n",
       "  <tbody>\n",
       "    <tr>\n",
       "      <th>0</th>\n",
       "      <td>1</td>\n",
       "      <td>SK214055731027183612226744</td>\n",
       "      <td>685</td>\n",
       "      <td>2018-03-22 16:34:08.058001</td>\n",
       "      <td>2018-03-22 16:34:08.058001</td>\n",
       "      <td>551</td>\n",
       "      <td>934</td>\n",
       "      <td>6</td>\n",
       "      <td>4</td>\n",
       "    </tr>\n",
       "    <tr>\n",
       "      <th>1</th>\n",
       "      <td>2</td>\n",
       "      <td>SK917993348635528966149279</td>\n",
       "      <td>524</td>\n",
       "      <td>2018-03-22 16:34:08.066979</td>\n",
       "      <td>2018-03-22 16:34:08.066979</td>\n",
       "      <td>869</td>\n",
       "      <td>981</td>\n",
       "      <td>5</td>\n",
       "      <td>3</td>\n",
       "    </tr>\n",
       "    <tr>\n",
       "      <th>2</th>\n",
       "      <td>3</td>\n",
       "      <td>SK434392635243935869180523</td>\n",
       "      <td>341</td>\n",
       "      <td>2018-03-22 16:34:08.075089</td>\n",
       "      <td>2018-03-22 16:34:08.075089</td>\n",
       "      <td>391</td>\n",
       "      <td>307</td>\n",
       "      <td>4</td>\n",
       "      <td>5</td>\n",
       "    </tr>\n",
       "    <tr>\n",
       "      <th>3</th>\n",
       "      <td>4</td>\n",
       "      <td>SK064592964584197702631488</td>\n",
       "      <td>179</td>\n",
       "      <td>2018-03-22 16:34:08.083235</td>\n",
       "      <td>2018-03-22 16:34:08.083235</td>\n",
       "      <td>117</td>\n",
       "      <td>85</td>\n",
       "      <td>3</td>\n",
       "      <td>3</td>\n",
       "    </tr>\n",
       "    <tr>\n",
       "      <th>4</th>\n",
       "      <td>5</td>\n",
       "      <td>SK562458383369559669583805</td>\n",
       "      <td>83</td>\n",
       "      <td>2018-03-22 16:34:08.091428</td>\n",
       "      <td>2018-03-22 16:34:08.091428</td>\n",
       "      <td>34</td>\n",
       "      <td>409</td>\n",
       "      <td>1</td>\n",
       "      <td>1</td>\n",
       "    </tr>\n",
       "    <tr>\n",
       "      <th>5</th>\n",
       "      <td>6</td>\n",
       "      <td>SK755968546664664323524643</td>\n",
       "      <td>822</td>\n",
       "      <td>2018-03-22 16:34:08.099597</td>\n",
       "      <td>2018-03-22 16:34:08.099597</td>\n",
       "      <td>985</td>\n",
       "      <td>717</td>\n",
       "      <td>2</td>\n",
       "      <td>4</td>\n",
       "    </tr>\n",
       "    <tr>\n",
       "      <th>6</th>\n",
       "      <td>7</td>\n",
       "      <td>SK527423817847432980528197</td>\n",
       "      <td>552</td>\n",
       "      <td>2018-03-22 16:34:08.107384</td>\n",
       "      <td>2018-03-22 16:34:08.107384</td>\n",
       "      <td>874</td>\n",
       "      <td>973</td>\n",
       "      <td>3</td>\n",
       "      <td>2</td>\n",
       "    </tr>\n",
       "    <tr>\n",
       "      <th>7</th>\n",
       "      <td>8</td>\n",
       "      <td>SK790065868843933003280802</td>\n",
       "      <td>579</td>\n",
       "      <td>2018-03-22 16:34:08.114807</td>\n",
       "      <td>2018-03-22 16:34:08.114807</td>\n",
       "      <td>172</td>\n",
       "      <td>671</td>\n",
       "      <td>10</td>\n",
       "      <td>5</td>\n",
       "    </tr>\n",
       "    <tr>\n",
       "      <th>8</th>\n",
       "      <td>9</td>\n",
       "      <td>SK788306418528193507670717</td>\n",
       "      <td>450</td>\n",
       "      <td>2018-03-22 16:34:08.122193</td>\n",
       "      <td>2018-03-22 16:34:08.122193</td>\n",
       "      <td>140</td>\n",
       "      <td>154</td>\n",
       "      <td>1</td>\n",
       "      <td>4</td>\n",
       "    </tr>\n",
       "    <tr>\n",
       "      <th>9</th>\n",
       "      <td>10</td>\n",
       "      <td>SK133049194048790454885043</td>\n",
       "      <td>271</td>\n",
       "      <td>2018-03-22 16:34:08.129538</td>\n",
       "      <td>2018-03-22 16:34:08.129538</td>\n",
       "      <td>481</td>\n",
       "      <td>722</td>\n",
       "      <td>8</td>\n",
       "      <td>3</td>\n",
       "    </tr>\n",
       "  </tbody>\n",
       "</table>\n",
       "</div>"
      ],
      "text/plain": [
       "   id                      number  balance                 created_at  \\\n",
       "0   1  SK214055731027183612226744      685 2018-03-22 16:34:08.058001   \n",
       "1   2  SK917993348635528966149279      524 2018-03-22 16:34:08.066979   \n",
       "2   3  SK434392635243935869180523      341 2018-03-22 16:34:08.075089   \n",
       "3   4  SK064592964584197702631488      179 2018-03-22 16:34:08.083235   \n",
       "4   5  SK562458383369559669583805       83 2018-03-22 16:34:08.091428   \n",
       "5   6  SK755968546664664323524643      822 2018-03-22 16:34:08.099597   \n",
       "6   7  SK527423817847432980528197      552 2018-03-22 16:34:08.107384   \n",
       "7   8  SK790065868843933003280802      579 2018-03-22 16:34:08.114807   \n",
       "8   9  SK788306418528193507670717      450 2018-03-22 16:34:08.122193   \n",
       "9  10  SK133049194048790454885043      271 2018-03-22 16:34:08.129538   \n",
       "\n",
       "                  updated_at  customer_id  bank_id  currency_id  acc_type_id  \n",
       "0 2018-03-22 16:34:08.058001          551      934            6            4  \n",
       "1 2018-03-22 16:34:08.066979          869      981            5            3  \n",
       "2 2018-03-22 16:34:08.075089          391      307            4            5  \n",
       "3 2018-03-22 16:34:08.083235          117       85            3            3  \n",
       "4 2018-03-22 16:34:08.091428           34      409            1            1  \n",
       "5 2018-03-22 16:34:08.099597          985      717            2            4  \n",
       "6 2018-03-22 16:34:08.107384          874      973            3            2  \n",
       "7 2018-03-22 16:34:08.114807          172      671           10            5  \n",
       "8 2018-03-22 16:34:08.122193          140      154            1            4  \n",
       "9 2018-03-22 16:34:08.129538          481      722            8            3  "
      ]
     },
     "execution_count": 50,
     "metadata": {},
     "output_type": "execute_result"
    }
   ],
   "source": [
    "accounts.head(10)"
   ]
  },
  {
   "cell_type": "markdown",
   "metadata": {},
   "source": [
    "Počet riadkov:"
   ]
  },
  {
   "cell_type": "code",
   "execution_count": 51,
   "metadata": {},
   "outputs": [
    {
     "data": {
      "text/plain": [
       "1000000"
      ]
     },
     "execution_count": 51,
     "metadata": {},
     "output_type": "execute_result"
    }
   ],
   "source": [
    "accounts.shape[0]"
   ]
  },
  {
   "cell_type": "markdown",
   "metadata": {},
   "source": [
    "Deskriptívne štatistiky pre atribút balance:"
   ]
  },
  {
   "cell_type": "code",
   "execution_count": 6,
   "metadata": {},
   "outputs": [
    {
     "data": {
      "text/plain": [
       "count    1000000.000000\n",
       "mean         500.250005\n",
       "std          288.604480\n",
       "min            1.000000\n",
       "25%          251.000000\n",
       "50%          500.000000\n",
       "75%          750.000000\n",
       "max         1000.000000\n",
       "Name: balance, dtype: float64"
      ]
     },
     "execution_count": 6,
     "metadata": {},
     "output_type": "execute_result"
    }
   ],
   "source": [
    "accounts['balance'].describe()"
   ]
  },
  {
   "cell_type": "markdown",
   "metadata": {},
   "source": [
    "Početnosť jednotlivých hodnôt v currency_id, čo predstavuje v akej mene je účet vedený:"
   ]
  },
  {
   "cell_type": "code",
   "execution_count": 39,
   "metadata": {},
   "outputs": [
    {
     "data": {
      "text/plain": [
       "Etherum     100450\n",
       "SALT        100312\n",
       "IOTA        100193\n",
       "Bitcoin     100106\n",
       "Cardano     100082\n",
       "Stellar     100036\n",
       "Hshare       99997\n",
       "Ripple       99856\n",
       "DigixDAO     99719\n",
       "Litecoin     99249\n",
       "Name: name, dtype: int64"
      ]
     },
     "execution_count": 39,
     "metadata": {},
     "output_type": "execute_result"
    }
   ],
   "source": [
    "pd.merge(left = accounts, right = currencies, left_on=\"currency_id\", right_on=\"id\", how=\"inner\")['name'].value_counts()"
   ]
  },
  {
   "cell_type": "markdown",
   "metadata": {},
   "source": [
    "## Entita transactions"
   ]
  },
  {
   "cell_type": "code",
   "execution_count": 44,
   "metadata": {},
   "outputs": [],
   "source": [
    "transactions = pd.read_sql('select * from transactions', con=conn)"
   ]
  },
  {
   "cell_type": "code",
   "execution_count": 12,
   "metadata": {},
   "outputs": [
    {
     "data": {
      "text/html": [
       "<div>\n",
       "<style scoped>\n",
       "    .dataframe tbody tr th:only-of-type {\n",
       "        vertical-align: middle;\n",
       "    }\n",
       "\n",
       "    .dataframe tbody tr th {\n",
       "        vertical-align: top;\n",
       "    }\n",
       "\n",
       "    .dataframe thead th {\n",
       "        text-align: right;\n",
       "    }\n",
       "</style>\n",
       "<table border=\"1\" class=\"dataframe\">\n",
       "  <thead>\n",
       "    <tr style=\"text-align: right;\">\n",
       "      <th></th>\n",
       "      <th>id</th>\n",
       "      <th>name</th>\n",
       "      <th>ammount</th>\n",
       "      <th>date</th>\n",
       "      <th>created_at</th>\n",
       "      <th>updated_at</th>\n",
       "      <th>account_id</th>\n",
       "      <th>currency_id</th>\n",
       "      <th>trans_type_id</th>\n",
       "      <th>trans_state_id</th>\n",
       "    </tr>\n",
       "  </thead>\n",
       "  <tbody>\n",
       "    <tr>\n",
       "      <th>0</th>\n",
       "      <td>1</td>\n",
       "      <td>Meraxes</td>\n",
       "      <td>3246</td>\n",
       "      <td>2015-10-18</td>\n",
       "      <td>2018-03-22 18:39:21.848728</td>\n",
       "      <td>2018-03-22 18:39:21.848728</td>\n",
       "      <td>387</td>\n",
       "      <td>2</td>\n",
       "      <td>5</td>\n",
       "      <td>5</td>\n",
       "    </tr>\n",
       "    <tr>\n",
       "      <th>1</th>\n",
       "      <td>2</td>\n",
       "      <td>Tyraxes</td>\n",
       "      <td>4398</td>\n",
       "      <td>2016-04-23</td>\n",
       "      <td>2018-03-22 18:39:21.857747</td>\n",
       "      <td>2018-03-22 18:39:21.857747</td>\n",
       "      <td>330</td>\n",
       "      <td>2</td>\n",
       "      <td>2</td>\n",
       "      <td>5</td>\n",
       "    </tr>\n",
       "    <tr>\n",
       "      <th>2</th>\n",
       "      <td>3</td>\n",
       "      <td>Syrax</td>\n",
       "      <td>7609</td>\n",
       "      <td>2016-03-02</td>\n",
       "      <td>2018-03-22 18:39:21.865628</td>\n",
       "      <td>2018-03-22 18:39:21.865628</td>\n",
       "      <td>805</td>\n",
       "      <td>8</td>\n",
       "      <td>2</td>\n",
       "      <td>4</td>\n",
       "    </tr>\n",
       "    <tr>\n",
       "      <th>3</th>\n",
       "      <td>4</td>\n",
       "      <td>Vermithrax</td>\n",
       "      <td>6669</td>\n",
       "      <td>2018-01-28</td>\n",
       "      <td>2018-03-22 18:39:21.873698</td>\n",
       "      <td>2018-03-22 18:39:21.873698</td>\n",
       "      <td>675</td>\n",
       "      <td>4</td>\n",
       "      <td>3</td>\n",
       "      <td>4</td>\n",
       "    </tr>\n",
       "    <tr>\n",
       "      <th>4</th>\n",
       "      <td>5</td>\n",
       "      <td>Valryon</td>\n",
       "      <td>9302</td>\n",
       "      <td>2015-08-07</td>\n",
       "      <td>2018-03-22 18:39:21.882049</td>\n",
       "      <td>2018-03-22 18:39:21.882049</td>\n",
       "      <td>916</td>\n",
       "      <td>3</td>\n",
       "      <td>1</td>\n",
       "      <td>5</td>\n",
       "    </tr>\n",
       "    <tr>\n",
       "      <th>5</th>\n",
       "      <td>6</td>\n",
       "      <td>Vhagar</td>\n",
       "      <td>1029</td>\n",
       "      <td>2018-01-18</td>\n",
       "      <td>2018-03-22 18:39:21.890007</td>\n",
       "      <td>2018-03-22 18:39:21.890007</td>\n",
       "      <td>823</td>\n",
       "      <td>5</td>\n",
       "      <td>4</td>\n",
       "      <td>2</td>\n",
       "    </tr>\n",
       "    <tr>\n",
       "      <th>6</th>\n",
       "      <td>7</td>\n",
       "      <td>Balerion</td>\n",
       "      <td>7892</td>\n",
       "      <td>2015-07-03</td>\n",
       "      <td>2018-03-22 18:39:21.897544</td>\n",
       "      <td>2018-03-22 18:39:21.897544</td>\n",
       "      <td>307</td>\n",
       "      <td>7</td>\n",
       "      <td>5</td>\n",
       "      <td>1</td>\n",
       "    </tr>\n",
       "    <tr>\n",
       "      <th>7</th>\n",
       "      <td>8</td>\n",
       "      <td>Viserion</td>\n",
       "      <td>4211</td>\n",
       "      <td>2017-10-18</td>\n",
       "      <td>2018-03-22 18:39:21.905232</td>\n",
       "      <td>2018-03-22 18:39:21.905232</td>\n",
       "      <td>522</td>\n",
       "      <td>9</td>\n",
       "      <td>5</td>\n",
       "      <td>2</td>\n",
       "    </tr>\n",
       "    <tr>\n",
       "      <th>8</th>\n",
       "      <td>9</td>\n",
       "      <td>Rhaegal</td>\n",
       "      <td>4188</td>\n",
       "      <td>2018-02-04</td>\n",
       "      <td>2018-03-22 18:39:21.912642</td>\n",
       "      <td>2018-03-22 18:39:21.912642</td>\n",
       "      <td>947</td>\n",
       "      <td>10</td>\n",
       "      <td>2</td>\n",
       "      <td>5</td>\n",
       "    </tr>\n",
       "    <tr>\n",
       "      <th>9</th>\n",
       "      <td>10</td>\n",
       "      <td>Tyraxes</td>\n",
       "      <td>3970</td>\n",
       "      <td>2016-08-28</td>\n",
       "      <td>2018-03-22 18:39:21.919848</td>\n",
       "      <td>2018-03-22 18:39:21.919848</td>\n",
       "      <td>487</td>\n",
       "      <td>8</td>\n",
       "      <td>4</td>\n",
       "      <td>2</td>\n",
       "    </tr>\n",
       "  </tbody>\n",
       "</table>\n",
       "</div>"
      ],
      "text/plain": [
       "   id        name  ammount       date                 created_at  \\\n",
       "0   1     Meraxes     3246 2015-10-18 2018-03-22 18:39:21.848728   \n",
       "1   2     Tyraxes     4398 2016-04-23 2018-03-22 18:39:21.857747   \n",
       "2   3       Syrax     7609 2016-03-02 2018-03-22 18:39:21.865628   \n",
       "3   4  Vermithrax     6669 2018-01-28 2018-03-22 18:39:21.873698   \n",
       "4   5     Valryon     9302 2015-08-07 2018-03-22 18:39:21.882049   \n",
       "5   6      Vhagar     1029 2018-01-18 2018-03-22 18:39:21.890007   \n",
       "6   7    Balerion     7892 2015-07-03 2018-03-22 18:39:21.897544   \n",
       "7   8    Viserion     4211 2017-10-18 2018-03-22 18:39:21.905232   \n",
       "8   9     Rhaegal     4188 2018-02-04 2018-03-22 18:39:21.912642   \n",
       "9  10     Tyraxes     3970 2016-08-28 2018-03-22 18:39:21.919848   \n",
       "\n",
       "                  updated_at  account_id  currency_id  trans_type_id  \\\n",
       "0 2018-03-22 18:39:21.848728         387            2              5   \n",
       "1 2018-03-22 18:39:21.857747         330            2              2   \n",
       "2 2018-03-22 18:39:21.865628         805            8              2   \n",
       "3 2018-03-22 18:39:21.873698         675            4              3   \n",
       "4 2018-03-22 18:39:21.882049         916            3              1   \n",
       "5 2018-03-22 18:39:21.890007         823            5              4   \n",
       "6 2018-03-22 18:39:21.897544         307            7              5   \n",
       "7 2018-03-22 18:39:21.905232         522            9              5   \n",
       "8 2018-03-22 18:39:21.912642         947           10              2   \n",
       "9 2018-03-22 18:39:21.919848         487            8              4   \n",
       "\n",
       "   trans_state_id  \n",
       "0               5  \n",
       "1               5  \n",
       "2               4  \n",
       "3               4  \n",
       "4               5  \n",
       "5               2  \n",
       "6               1  \n",
       "7               2  \n",
       "8               5  \n",
       "9               2  "
      ]
     },
     "execution_count": 12,
     "metadata": {},
     "output_type": "execute_result"
    }
   ],
   "source": [
    "transactions.head(10)"
   ]
  },
  {
   "cell_type": "markdown",
   "metadata": {},
   "source": [
    "Počet riadkov:"
   ]
  },
  {
   "cell_type": "code",
   "execution_count": 13,
   "metadata": {},
   "outputs": [
    {
     "data": {
      "text/plain": [
       "10000610"
      ]
     },
     "execution_count": 13,
     "metadata": {},
     "output_type": "execute_result"
    }
   ],
   "source": [
    "transactions.shape[0]"
   ]
  },
  {
   "cell_type": "markdown",
   "metadata": {},
   "source": [
    "Priemerný počet transakcií na jeden účet:"
   ]
  },
  {
   "cell_type": "code",
   "execution_count": 45,
   "metadata": {},
   "outputs": [
    {
     "data": {
      "text/plain": [
       "10.00061"
      ]
     },
     "execution_count": 45,
     "metadata": {},
     "output_type": "execute_result"
    }
   ],
   "source": [
    "transactions.groupby(['account_id']).size().sum()/accounts.shape[0]"
   ]
  },
  {
   "cell_type": "markdown",
   "metadata": {},
   "source": [
    "Deskriptívne štatistiky pre hodnotu transakcie:"
   ]
  },
  {
   "cell_type": "code",
   "execution_count": 47,
   "metadata": {
    "scrolled": true
   },
   "outputs": [
    {
     "data": {
      "text/plain": [
       "count    1.000061e+07\n",
       "mean     4.999397e+03\n",
       "std      2.887494e+03\n",
       "min      1.000000e+00\n",
       "25%      2.498000e+03\n",
       "50%      4.998000e+03\n",
       "75%      7.500000e+03\n",
       "max      1.000000e+04\n",
       "Name: ammount, dtype: float64"
      ]
     },
     "execution_count": 47,
     "metadata": {},
     "output_type": "execute_result"
    }
   ],
   "source": [
    "transactions['ammount'].describe()"
   ]
  },
  {
   "cell_type": "markdown",
   "metadata": {},
   "source": [
    "## Entita pools"
   ]
  },
  {
   "cell_type": "code",
   "execution_count": 48,
   "metadata": {},
   "outputs": [],
   "source": [
    "pools = pd.read_sql('select * from pools', con=conn)"
   ]
  },
  {
   "cell_type": "code",
   "execution_count": 49,
   "metadata": {},
   "outputs": [
    {
     "data": {
      "text/html": [
       "<div>\n",
       "<style scoped>\n",
       "    .dataframe tbody tr th:only-of-type {\n",
       "        vertical-align: middle;\n",
       "    }\n",
       "\n",
       "    .dataframe tbody tr th {\n",
       "        vertical-align: top;\n",
       "    }\n",
       "\n",
       "    .dataframe thead th {\n",
       "        text-align: right;\n",
       "    }\n",
       "</style>\n",
       "<table border=\"1\" class=\"dataframe\">\n",
       "  <thead>\n",
       "    <tr style=\"text-align: right;\">\n",
       "      <th></th>\n",
       "      <th>id</th>\n",
       "      <th>name</th>\n",
       "      <th>income</th>\n",
       "      <th>created_at</th>\n",
       "      <th>updated_at</th>\n",
       "      <th>bank_id</th>\n",
       "      <th>currency_id</th>\n",
       "    </tr>\n",
       "  </thead>\n",
       "  <tbody>\n",
       "    <tr>\n",
       "      <th>0</th>\n",
       "      <td>1</td>\n",
       "      <td>15sqjEFzZrRTkrQvCLrYm1iHixXLsyBnGj</td>\n",
       "      <td>2411</td>\n",
       "      <td>2018-03-22 23:19:09.356507</td>\n",
       "      <td>2018-03-22 23:19:09.356507</td>\n",
       "      <td>231</td>\n",
       "      <td>4</td>\n",
       "    </tr>\n",
       "    <tr>\n",
       "      <th>1</th>\n",
       "      <td>2</td>\n",
       "      <td>1GwUUepYxSZQ7HWeX2TettHv6RPJK4RXw2</td>\n",
       "      <td>330</td>\n",
       "      <td>2018-03-22 23:19:09.366460</td>\n",
       "      <td>2018-03-22 23:19:09.366460</td>\n",
       "      <td>621</td>\n",
       "      <td>7</td>\n",
       "    </tr>\n",
       "    <tr>\n",
       "      <th>2</th>\n",
       "      <td>3</td>\n",
       "      <td>1Pj7nhYqEN8xCZ3jPgYzp2dHPnDg3oUdEq</td>\n",
       "      <td>2752</td>\n",
       "      <td>2018-03-22 23:19:09.374788</td>\n",
       "      <td>2018-03-22 23:19:09.374788</td>\n",
       "      <td>113</td>\n",
       "      <td>10</td>\n",
       "    </tr>\n",
       "    <tr>\n",
       "      <th>3</th>\n",
       "      <td>4</td>\n",
       "      <td>15optdLeEgJU149oF7qtDaMUeuaSTfkaiQ</td>\n",
       "      <td>4316</td>\n",
       "      <td>2018-03-22 23:19:09.382392</td>\n",
       "      <td>2018-03-22 23:19:09.382392</td>\n",
       "      <td>731</td>\n",
       "      <td>8</td>\n",
       "    </tr>\n",
       "    <tr>\n",
       "      <th>4</th>\n",
       "      <td>5</td>\n",
       "      <td>1Efrk9DumDcXMvu9kWbSML6mu7bonFTqEL</td>\n",
       "      <td>1320</td>\n",
       "      <td>2018-03-22 23:19:09.389829</td>\n",
       "      <td>2018-03-22 23:19:09.389829</td>\n",
       "      <td>700</td>\n",
       "      <td>2</td>\n",
       "    </tr>\n",
       "    <tr>\n",
       "      <th>5</th>\n",
       "      <td>6</td>\n",
       "      <td>12aA6gHVmnZkFrrrRkWrzToExAMaJBLoTy</td>\n",
       "      <td>1923</td>\n",
       "      <td>2018-03-22 23:19:09.396997</td>\n",
       "      <td>2018-03-22 23:19:09.396997</td>\n",
       "      <td>306</td>\n",
       "      <td>5</td>\n",
       "    </tr>\n",
       "    <tr>\n",
       "      <th>6</th>\n",
       "      <td>7</td>\n",
       "      <td>1L5CYVGGYJPFQaDXbfdnawzrrUfCYrP4y9</td>\n",
       "      <td>3411</td>\n",
       "      <td>2018-03-22 23:19:09.405019</td>\n",
       "      <td>2018-03-22 23:19:09.405019</td>\n",
       "      <td>205</td>\n",
       "      <td>5</td>\n",
       "    </tr>\n",
       "    <tr>\n",
       "      <th>7</th>\n",
       "      <td>8</td>\n",
       "      <td>18nZbxhJR6KE2u4XeBQGB8ZtcPsyMkq4U9</td>\n",
       "      <td>4402</td>\n",
       "      <td>2018-03-22 23:19:09.412043</td>\n",
       "      <td>2018-03-22 23:19:09.412043</td>\n",
       "      <td>435</td>\n",
       "      <td>1</td>\n",
       "    </tr>\n",
       "    <tr>\n",
       "      <th>8</th>\n",
       "      <td>9</td>\n",
       "      <td>1HHywC2sqCuuPpdXcJd8noxXBpz66dHtnK</td>\n",
       "      <td>3730</td>\n",
       "      <td>2018-03-22 23:19:09.418624</td>\n",
       "      <td>2018-03-22 23:19:09.418624</td>\n",
       "      <td>336</td>\n",
       "      <td>4</td>\n",
       "    </tr>\n",
       "    <tr>\n",
       "      <th>9</th>\n",
       "      <td>10</td>\n",
       "      <td>13GtPq7ymoMNeyNYa48jPMhBJv2dK4BanS</td>\n",
       "      <td>4781</td>\n",
       "      <td>2018-03-22 23:19:09.425538</td>\n",
       "      <td>2018-03-22 23:19:09.425538</td>\n",
       "      <td>390</td>\n",
       "      <td>4</td>\n",
       "    </tr>\n",
       "  </tbody>\n",
       "</table>\n",
       "</div>"
      ],
      "text/plain": [
       "   id                                name  income                 created_at  \\\n",
       "0   1  15sqjEFzZrRTkrQvCLrYm1iHixXLsyBnGj    2411 2018-03-22 23:19:09.356507   \n",
       "1   2  1GwUUepYxSZQ7HWeX2TettHv6RPJK4RXw2     330 2018-03-22 23:19:09.366460   \n",
       "2   3  1Pj7nhYqEN8xCZ3jPgYzp2dHPnDg3oUdEq    2752 2018-03-22 23:19:09.374788   \n",
       "3   4  15optdLeEgJU149oF7qtDaMUeuaSTfkaiQ    4316 2018-03-22 23:19:09.382392   \n",
       "4   5  1Efrk9DumDcXMvu9kWbSML6mu7bonFTqEL    1320 2018-03-22 23:19:09.389829   \n",
       "5   6  12aA6gHVmnZkFrrrRkWrzToExAMaJBLoTy    1923 2018-03-22 23:19:09.396997   \n",
       "6   7  1L5CYVGGYJPFQaDXbfdnawzrrUfCYrP4y9    3411 2018-03-22 23:19:09.405019   \n",
       "7   8  18nZbxhJR6KE2u4XeBQGB8ZtcPsyMkq4U9    4402 2018-03-22 23:19:09.412043   \n",
       "8   9  1HHywC2sqCuuPpdXcJd8noxXBpz66dHtnK    3730 2018-03-22 23:19:09.418624   \n",
       "9  10  13GtPq7ymoMNeyNYa48jPMhBJv2dK4BanS    4781 2018-03-22 23:19:09.425538   \n",
       "\n",
       "                  updated_at  bank_id  currency_id  \n",
       "0 2018-03-22 23:19:09.356507      231            4  \n",
       "1 2018-03-22 23:19:09.366460      621            7  \n",
       "2 2018-03-22 23:19:09.374788      113           10  \n",
       "3 2018-03-22 23:19:09.382392      731            8  \n",
       "4 2018-03-22 23:19:09.389829      700            2  \n",
       "5 2018-03-22 23:19:09.396997      306            5  \n",
       "6 2018-03-22 23:19:09.405019      205            5  \n",
       "7 2018-03-22 23:19:09.412043      435            1  \n",
       "8 2018-03-22 23:19:09.418624      336            4  \n",
       "9 2018-03-22 23:19:09.425538      390            4  "
      ]
     },
     "execution_count": 49,
     "metadata": {},
     "output_type": "execute_result"
    }
   ],
   "source": [
    "pools.head(10)"
   ]
  },
  {
   "cell_type": "markdown",
   "metadata": {},
   "source": [
    "Počet riadkov"
   ]
  },
  {
   "cell_type": "code",
   "execution_count": 21,
   "metadata": {},
   "outputs": [
    {
     "data": {
      "text/plain": [
       "1000000"
      ]
     },
     "execution_count": 21,
     "metadata": {},
     "output_type": "execute_result"
    }
   ],
   "source": [
    "pools.shape[0]"
   ]
  },
  {
   "cell_type": "markdown",
   "metadata": {},
   "source": [
    "Deskriptívna štatistika pre príjem poolov"
   ]
  },
  {
   "cell_type": "code",
   "execution_count": 50,
   "metadata": {},
   "outputs": [
    {
     "data": {
      "text/plain": [
       "count    1000000.000000\n",
       "mean        2501.958917\n",
       "std         1443.208282\n",
       "min            1.000000\n",
       "25%         1252.000000\n",
       "50%         2501.000000\n",
       "75%         3752.000000\n",
       "max         5000.000000\n",
       "Name: income, dtype: float64"
      ]
     },
     "execution_count": 50,
     "metadata": {},
     "output_type": "execute_result"
    }
   ],
   "source": [
    "pools['income'].describe()"
   ]
  },
  {
   "cell_type": "markdown",
   "metadata": {},
   "source": [
    "Priemerný počet poolov na jednu banku:"
   ]
  },
  {
   "cell_type": "code",
   "execution_count": 51,
   "metadata": {},
   "outputs": [
    {
     "data": {
      "text/plain": [
       "1.0"
      ]
     },
     "execution_count": 51,
     "metadata": {},
     "output_type": "execute_result"
    }
   ],
   "source": [
    "pools.groupby(['bank_id']).size().sum()/banks.shape[0]"
   ]
  },
  {
   "cell_type": "markdown",
   "metadata": {},
   "source": [
    "## Entita mining_histories"
   ]
  },
  {
   "cell_type": "code",
   "execution_count": 53,
   "metadata": {},
   "outputs": [],
   "source": [
    "mining_histories = pd.read_sql('select * from mining_histories', con=conn)"
   ]
  },
  {
   "cell_type": "code",
   "execution_count": 54,
   "metadata": {},
   "outputs": [
    {
     "data": {
      "text/html": [
       "<div>\n",
       "<style scoped>\n",
       "    .dataframe tbody tr th:only-of-type {\n",
       "        vertical-align: middle;\n",
       "    }\n",
       "\n",
       "    .dataframe tbody tr th {\n",
       "        vertical-align: top;\n",
       "    }\n",
       "\n",
       "    .dataframe thead th {\n",
       "        text-align: right;\n",
       "    }\n",
       "</style>\n",
       "<table border=\"1\" class=\"dataframe\">\n",
       "  <thead>\n",
       "    <tr style=\"text-align: right;\">\n",
       "      <th></th>\n",
       "      <th>id</th>\n",
       "      <th>connected_at</th>\n",
       "      <th>disconnected_at</th>\n",
       "      <th>created_at</th>\n",
       "      <th>updated_at</th>\n",
       "      <th>computer_id</th>\n",
       "      <th>pool_id</th>\n",
       "    </tr>\n",
       "  </thead>\n",
       "  <tbody>\n",
       "    <tr>\n",
       "      <th>0</th>\n",
       "      <td>1</td>\n",
       "      <td>2018-03-08</td>\n",
       "      <td>2017-05-30</td>\n",
       "      <td>2018-03-23 02:36:29.391165</td>\n",
       "      <td>2018-03-23 02:36:29.391165</td>\n",
       "      <td>782</td>\n",
       "      <td>962</td>\n",
       "    </tr>\n",
       "    <tr>\n",
       "      <th>1</th>\n",
       "      <td>2</td>\n",
       "      <td>2017-09-21</td>\n",
       "      <td>2018-02-22</td>\n",
       "      <td>2018-03-23 02:36:29.398829</td>\n",
       "      <td>2018-03-23 02:36:29.398829</td>\n",
       "      <td>742</td>\n",
       "      <td>285</td>\n",
       "    </tr>\n",
       "    <tr>\n",
       "      <th>2</th>\n",
       "      <td>3</td>\n",
       "      <td>2017-07-10</td>\n",
       "      <td>2017-05-25</td>\n",
       "      <td>2018-03-23 02:36:29.405610</td>\n",
       "      <td>2018-03-23 02:36:29.405610</td>\n",
       "      <td>686</td>\n",
       "      <td>208</td>\n",
       "    </tr>\n",
       "    <tr>\n",
       "      <th>3</th>\n",
       "      <td>4</td>\n",
       "      <td>2017-12-06</td>\n",
       "      <td>2018-03-04</td>\n",
       "      <td>2018-03-23 02:36:29.412125</td>\n",
       "      <td>2018-03-23 02:36:29.412125</td>\n",
       "      <td>512</td>\n",
       "      <td>711</td>\n",
       "    </tr>\n",
       "    <tr>\n",
       "      <th>4</th>\n",
       "      <td>5</td>\n",
       "      <td>2016-12-15</td>\n",
       "      <td>2017-12-25</td>\n",
       "      <td>2018-03-23 02:36:29.418888</td>\n",
       "      <td>2018-03-23 02:36:29.418888</td>\n",
       "      <td>312</td>\n",
       "      <td>197</td>\n",
       "    </tr>\n",
       "    <tr>\n",
       "      <th>5</th>\n",
       "      <td>6</td>\n",
       "      <td>2017-12-13</td>\n",
       "      <td>2017-02-22</td>\n",
       "      <td>2018-03-23 02:36:29.425435</td>\n",
       "      <td>2018-03-23 02:36:29.425435</td>\n",
       "      <td>752</td>\n",
       "      <td>393</td>\n",
       "    </tr>\n",
       "    <tr>\n",
       "      <th>6</th>\n",
       "      <td>7</td>\n",
       "      <td>2018-02-14</td>\n",
       "      <td>2018-01-23</td>\n",
       "      <td>2018-03-23 02:36:29.431833</td>\n",
       "      <td>2018-03-23 02:36:29.431833</td>\n",
       "      <td>317</td>\n",
       "      <td>685</td>\n",
       "    </tr>\n",
       "    <tr>\n",
       "      <th>7</th>\n",
       "      <td>8</td>\n",
       "      <td>2018-02-15</td>\n",
       "      <td>2017-08-06</td>\n",
       "      <td>2018-03-23 02:36:29.438093</td>\n",
       "      <td>2018-03-23 02:36:29.438093</td>\n",
       "      <td>481</td>\n",
       "      <td>92</td>\n",
       "    </tr>\n",
       "    <tr>\n",
       "      <th>8</th>\n",
       "      <td>9</td>\n",
       "      <td>2018-01-06</td>\n",
       "      <td>2017-06-03</td>\n",
       "      <td>2018-03-23 02:36:29.444448</td>\n",
       "      <td>2018-03-23 02:36:29.444448</td>\n",
       "      <td>880</td>\n",
       "      <td>643</td>\n",
       "    </tr>\n",
       "    <tr>\n",
       "      <th>9</th>\n",
       "      <td>10</td>\n",
       "      <td>2017-08-30</td>\n",
       "      <td>2017-07-20</td>\n",
       "      <td>2018-03-23 02:36:29.451058</td>\n",
       "      <td>2018-03-23 02:36:29.451058</td>\n",
       "      <td>449</td>\n",
       "      <td>359</td>\n",
       "    </tr>\n",
       "  </tbody>\n",
       "</table>\n",
       "</div>"
      ],
      "text/plain": [
       "   id connected_at disconnected_at                 created_at  \\\n",
       "0   1   2018-03-08      2017-05-30 2018-03-23 02:36:29.391165   \n",
       "1   2   2017-09-21      2018-02-22 2018-03-23 02:36:29.398829   \n",
       "2   3   2017-07-10      2017-05-25 2018-03-23 02:36:29.405610   \n",
       "3   4   2017-12-06      2018-03-04 2018-03-23 02:36:29.412125   \n",
       "4   5   2016-12-15      2017-12-25 2018-03-23 02:36:29.418888   \n",
       "5   6   2017-12-13      2017-02-22 2018-03-23 02:36:29.425435   \n",
       "6   7   2018-02-14      2018-01-23 2018-03-23 02:36:29.431833   \n",
       "7   8   2018-02-15      2017-08-06 2018-03-23 02:36:29.438093   \n",
       "8   9   2018-01-06      2017-06-03 2018-03-23 02:36:29.444448   \n",
       "9  10   2017-08-30      2017-07-20 2018-03-23 02:36:29.451058   \n",
       "\n",
       "                  updated_at  computer_id  pool_id  \n",
       "0 2018-03-23 02:36:29.391165          782      962  \n",
       "1 2018-03-23 02:36:29.398829          742      285  \n",
       "2 2018-03-23 02:36:29.405610          686      208  \n",
       "3 2018-03-23 02:36:29.412125          512      711  \n",
       "4 2018-03-23 02:36:29.418888          312      197  \n",
       "5 2018-03-23 02:36:29.425435          752      393  \n",
       "6 2018-03-23 02:36:29.431833          317      685  \n",
       "7 2018-03-23 02:36:29.438093          481       92  \n",
       "8 2018-03-23 02:36:29.444448          880      643  \n",
       "9 2018-03-23 02:36:29.451058          449      359  "
      ]
     },
     "execution_count": 54,
     "metadata": {},
     "output_type": "execute_result"
    }
   ],
   "source": [
    "mining_histories.head(10)"
   ]
  },
  {
   "cell_type": "markdown",
   "metadata": {},
   "source": [
    "Počet riadkov:"
   ]
  },
  {
   "cell_type": "code",
   "execution_count": 55,
   "metadata": {},
   "outputs": [
    {
     "data": {
      "text/plain": [
       "1018171"
      ]
     },
     "execution_count": 55,
     "metadata": {},
     "output_type": "execute_result"
    }
   ],
   "source": [
    "mining_histories.shape[0]"
   ]
  },
  {
   "cell_type": "markdown",
   "metadata": {},
   "source": [
    "Priemerný počet počítačov na jeden pool"
   ]
  },
  {
   "cell_type": "code",
   "execution_count": 60,
   "metadata": {},
   "outputs": [
    {
     "data": {
      "text/plain": [
       "1.018171"
      ]
     },
     "execution_count": 60,
     "metadata": {},
     "output_type": "execute_result"
    }
   ],
   "source": [
    "mining_histories.groupby(['computer_id']).size().sum()/pools.shape[0]"
   ]
  },
  {
   "cell_type": "markdown",
   "metadata": {},
   "source": [
    "## Entita income_by_customers"
   ]
  },
  {
   "cell_type": "code",
   "execution_count": 61,
   "metadata": {},
   "outputs": [],
   "source": [
    "income_by_customers = pd.read_sql('select * from income_by_custommers', con=conn)"
   ]
  },
  {
   "cell_type": "code",
   "execution_count": 38,
   "metadata": {},
   "outputs": [
    {
     "data": {
      "text/html": [
       "<div>\n",
       "<style scoped>\n",
       "    .dataframe tbody tr th:only-of-type {\n",
       "        vertical-align: middle;\n",
       "    }\n",
       "\n",
       "    .dataframe tbody tr th {\n",
       "        vertical-align: top;\n",
       "    }\n",
       "\n",
       "    .dataframe thead th {\n",
       "        text-align: right;\n",
       "    }\n",
       "</style>\n",
       "<table border=\"1\" class=\"dataframe\">\n",
       "  <thead>\n",
       "    <tr style=\"text-align: right;\">\n",
       "      <th></th>\n",
       "      <th>id</th>\n",
       "      <th>date</th>\n",
       "      <th>income</th>\n",
       "      <th>created_at</th>\n",
       "      <th>updated_at</th>\n",
       "      <th>customer_id</th>\n",
       "      <th>pool_id</th>\n",
       "    </tr>\n",
       "  </thead>\n",
       "  <tbody>\n",
       "    <tr>\n",
       "      <th>0</th>\n",
       "      <td>1</td>\n",
       "      <td>2018-03-01</td>\n",
       "      <td>2805</td>\n",
       "      <td>2018-03-23 00:59:40.769931</td>\n",
       "      <td>2018-03-23 00:59:40.769931</td>\n",
       "      <td>746</td>\n",
       "      <td>566</td>\n",
       "    </tr>\n",
       "    <tr>\n",
       "      <th>1</th>\n",
       "      <td>2</td>\n",
       "      <td>2018-02-13</td>\n",
       "      <td>3773</td>\n",
       "      <td>2018-03-23 00:59:40.777155</td>\n",
       "      <td>2018-03-23 00:59:40.777155</td>\n",
       "      <td>517</td>\n",
       "      <td>717</td>\n",
       "    </tr>\n",
       "    <tr>\n",
       "      <th>2</th>\n",
       "      <td>3</td>\n",
       "      <td>2018-03-14</td>\n",
       "      <td>3844</td>\n",
       "      <td>2018-03-23 00:59:40.783312</td>\n",
       "      <td>2018-03-23 00:59:40.783312</td>\n",
       "      <td>524</td>\n",
       "      <td>403</td>\n",
       "    </tr>\n",
       "    <tr>\n",
       "      <th>3</th>\n",
       "      <td>4</td>\n",
       "      <td>2018-02-28</td>\n",
       "      <td>720</td>\n",
       "      <td>2018-03-23 00:59:40.789399</td>\n",
       "      <td>2018-03-23 00:59:40.789399</td>\n",
       "      <td>474</td>\n",
       "      <td>595</td>\n",
       "    </tr>\n",
       "    <tr>\n",
       "      <th>4</th>\n",
       "      <td>5</td>\n",
       "      <td>2018-03-05</td>\n",
       "      <td>1599</td>\n",
       "      <td>2018-03-23 00:59:40.795510</td>\n",
       "      <td>2018-03-23 00:59:40.795510</td>\n",
       "      <td>480</td>\n",
       "      <td>443</td>\n",
       "    </tr>\n",
       "    <tr>\n",
       "      <th>5</th>\n",
       "      <td>6</td>\n",
       "      <td>2018-02-05</td>\n",
       "      <td>3524</td>\n",
       "      <td>2018-03-23 00:59:40.801740</td>\n",
       "      <td>2018-03-23 00:59:40.801740</td>\n",
       "      <td>348</td>\n",
       "      <td>883</td>\n",
       "    </tr>\n",
       "    <tr>\n",
       "      <th>6</th>\n",
       "      <td>7</td>\n",
       "      <td>2018-03-12</td>\n",
       "      <td>515</td>\n",
       "      <td>2018-03-23 00:59:40.807837</td>\n",
       "      <td>2018-03-23 00:59:40.807837</td>\n",
       "      <td>771</td>\n",
       "      <td>818</td>\n",
       "    </tr>\n",
       "    <tr>\n",
       "      <th>7</th>\n",
       "      <td>8</td>\n",
       "      <td>2018-02-03</td>\n",
       "      <td>4416</td>\n",
       "      <td>2018-03-23 00:59:40.813765</td>\n",
       "      <td>2018-03-23 00:59:40.813765</td>\n",
       "      <td>814</td>\n",
       "      <td>879</td>\n",
       "    </tr>\n",
       "    <tr>\n",
       "      <th>8</th>\n",
       "      <td>9</td>\n",
       "      <td>2018-02-04</td>\n",
       "      <td>4105</td>\n",
       "      <td>2018-03-23 00:59:40.819794</td>\n",
       "      <td>2018-03-23 00:59:40.819794</td>\n",
       "      <td>84</td>\n",
       "      <td>677</td>\n",
       "    </tr>\n",
       "    <tr>\n",
       "      <th>9</th>\n",
       "      <td>10</td>\n",
       "      <td>2018-02-05</td>\n",
       "      <td>771</td>\n",
       "      <td>2018-03-23 00:59:40.825757</td>\n",
       "      <td>2018-03-23 00:59:40.825757</td>\n",
       "      <td>517</td>\n",
       "      <td>230</td>\n",
       "    </tr>\n",
       "  </tbody>\n",
       "</table>\n",
       "</div>"
      ],
      "text/plain": [
       "   id        date  income                 created_at  \\\n",
       "0   1  2018-03-01    2805 2018-03-23 00:59:40.769931   \n",
       "1   2  2018-02-13    3773 2018-03-23 00:59:40.777155   \n",
       "2   3  2018-03-14    3844 2018-03-23 00:59:40.783312   \n",
       "3   4  2018-02-28     720 2018-03-23 00:59:40.789399   \n",
       "4   5  2018-03-05    1599 2018-03-23 00:59:40.795510   \n",
       "5   6  2018-02-05    3524 2018-03-23 00:59:40.801740   \n",
       "6   7  2018-03-12     515 2018-03-23 00:59:40.807837   \n",
       "7   8  2018-02-03    4416 2018-03-23 00:59:40.813765   \n",
       "8   9  2018-02-04    4105 2018-03-23 00:59:40.819794   \n",
       "9  10  2018-02-05     771 2018-03-23 00:59:40.825757   \n",
       "\n",
       "                  updated_at  customer_id  pool_id  \n",
       "0 2018-03-23 00:59:40.769931          746      566  \n",
       "1 2018-03-23 00:59:40.777155          517      717  \n",
       "2 2018-03-23 00:59:40.783312          524      403  \n",
       "3 2018-03-23 00:59:40.789399          474      595  \n",
       "4 2018-03-23 00:59:40.795510          480      443  \n",
       "5 2018-03-23 00:59:40.801740          348      883  \n",
       "6 2018-03-23 00:59:40.807837          771      818  \n",
       "7 2018-03-23 00:59:40.813765          814      879  \n",
       "8 2018-03-23 00:59:40.819794           84      677  \n",
       "9 2018-03-23 00:59:40.825757          517      230  "
      ]
     },
     "execution_count": 38,
     "metadata": {},
     "output_type": "execute_result"
    }
   ],
   "source": [
    "income_by_customers.head(10)"
   ]
  },
  {
   "cell_type": "markdown",
   "metadata": {},
   "source": [
    "Počet riadkov:"
   ]
  },
  {
   "cell_type": "code",
   "execution_count": 59,
   "metadata": {},
   "outputs": [
    {
     "data": {
      "text/plain": [
       "1000000"
      ]
     },
     "execution_count": 59,
     "metadata": {},
     "output_type": "execute_result"
    }
   ],
   "source": [
    "income_by_customers.shape[0]"
   ]
  },
  {
   "cell_type": "markdown",
   "metadata": {},
   "source": [
    "Deskriptívne štatistiky pre príjem z poolov"
   ]
  },
  {
   "cell_type": "code",
   "execution_count": 63,
   "metadata": {},
   "outputs": [
    {
     "data": {
      "text/plain": [
       "count    1000000.000000\n",
       "mean        2498.434662\n",
       "std         1443.678408\n",
       "min            1.000000\n",
       "25%         1247.000000\n",
       "50%         2500.000000\n",
       "75%         3747.000000\n",
       "max         5000.000000\n",
       "Name: income, dtype: float64"
      ]
     },
     "execution_count": 63,
     "metadata": {},
     "output_type": "execute_result"
    }
   ],
   "source": [
    "income_by_customers['income'].describe()"
   ]
  },
  {
   "cell_type": "markdown",
   "metadata": {},
   "source": [
    "## Ukážka číselníkov"
   ]
  },
  {
   "cell_type": "markdown",
   "metadata": {},
   "source": [
    "#### Meny"
   ]
  },
  {
   "cell_type": "code",
   "execution_count": 32,
   "metadata": {},
   "outputs": [],
   "source": [
    "currencies = pd.read_sql('select * from currencies', con=conn)"
   ]
  },
  {
   "cell_type": "code",
   "execution_count": 54,
   "metadata": {},
   "outputs": [
    {
     "data": {
      "text/html": [
       "<div>\n",
       "<style scoped>\n",
       "    .dataframe tbody tr th:only-of-type {\n",
       "        vertical-align: middle;\n",
       "    }\n",
       "\n",
       "    .dataframe tbody tr th {\n",
       "        vertical-align: top;\n",
       "    }\n",
       "\n",
       "    .dataframe thead th {\n",
       "        text-align: right;\n",
       "    }\n",
       "</style>\n",
       "<table border=\"1\" class=\"dataframe\">\n",
       "  <thead>\n",
       "    <tr style=\"text-align: right;\">\n",
       "      <th></th>\n",
       "      <th>id</th>\n",
       "      <th>name</th>\n",
       "      <th>value</th>\n",
       "      <th>created_at</th>\n",
       "      <th>updated_at</th>\n",
       "    </tr>\n",
       "  </thead>\n",
       "  <tbody>\n",
       "    <tr>\n",
       "      <th>0</th>\n",
       "      <td>1</td>\n",
       "      <td>Bitcoin</td>\n",
       "      <td>9155.1700</td>\n",
       "      <td>2018-03-22 14:04:07.868220</td>\n",
       "      <td>2018-03-22 14:04:07.868220</td>\n",
       "    </tr>\n",
       "    <tr>\n",
       "      <th>1</th>\n",
       "      <td>2</td>\n",
       "      <td>Etherum</td>\n",
       "      <td>583.4700</td>\n",
       "      <td>2018-03-22 14:04:07.869783</td>\n",
       "      <td>2018-03-22 14:04:07.869783</td>\n",
       "    </tr>\n",
       "    <tr>\n",
       "      <th>2</th>\n",
       "      <td>3</td>\n",
       "      <td>Ripple</td>\n",
       "      <td>0.7120</td>\n",
       "      <td>2018-03-22 14:04:07.871016</td>\n",
       "      <td>2018-03-22 14:04:07.871016</td>\n",
       "    </tr>\n",
       "    <tr>\n",
       "      <th>3</th>\n",
       "      <td>4</td>\n",
       "      <td>Litecoin</td>\n",
       "      <td>174.7400</td>\n",
       "      <td>2018-03-22 14:04:07.872202</td>\n",
       "      <td>2018-03-22 14:04:07.872202</td>\n",
       "    </tr>\n",
       "    <tr>\n",
       "      <th>4</th>\n",
       "      <td>5</td>\n",
       "      <td>Cardano</td>\n",
       "      <td>0.2235</td>\n",
       "      <td>2018-03-22 14:04:07.873448</td>\n",
       "      <td>2018-03-22 14:04:07.873448</td>\n",
       "    </tr>\n",
       "    <tr>\n",
       "      <th>5</th>\n",
       "      <td>6</td>\n",
       "      <td>Stellar</td>\n",
       "      <td>0.2660</td>\n",
       "      <td>2018-03-22 14:04:07.874650</td>\n",
       "      <td>2018-03-22 14:04:07.874650</td>\n",
       "    </tr>\n",
       "    <tr>\n",
       "      <th>6</th>\n",
       "      <td>7</td>\n",
       "      <td>IOTA</td>\n",
       "      <td>1.4300</td>\n",
       "      <td>2018-03-22 14:04:07.876048</td>\n",
       "      <td>2018-03-22 14:04:07.876048</td>\n",
       "    </tr>\n",
       "    <tr>\n",
       "      <th>7</th>\n",
       "      <td>8</td>\n",
       "      <td>DigixDAO</td>\n",
       "      <td>366.7800</td>\n",
       "      <td>2018-03-22 14:04:07.877572</td>\n",
       "      <td>2018-03-22 14:04:07.877572</td>\n",
       "    </tr>\n",
       "    <tr>\n",
       "      <th>8</th>\n",
       "      <td>9</td>\n",
       "      <td>Hshare</td>\n",
       "      <td>6.5100</td>\n",
       "      <td>2018-03-22 14:04:07.879082</td>\n",
       "      <td>2018-03-22 14:04:07.879082</td>\n",
       "    </tr>\n",
       "    <tr>\n",
       "      <th>9</th>\n",
       "      <td>10</td>\n",
       "      <td>SALT</td>\n",
       "      <td>2.7600</td>\n",
       "      <td>2018-03-22 14:04:07.880485</td>\n",
       "      <td>2018-03-22 14:04:07.880485</td>\n",
       "    </tr>\n",
       "  </tbody>\n",
       "</table>\n",
       "</div>"
      ],
      "text/plain": [
       "   id      name      value                 created_at  \\\n",
       "0   1   Bitcoin  9155.1700 2018-03-22 14:04:07.868220   \n",
       "1   2   Etherum   583.4700 2018-03-22 14:04:07.869783   \n",
       "2   3    Ripple     0.7120 2018-03-22 14:04:07.871016   \n",
       "3   4  Litecoin   174.7400 2018-03-22 14:04:07.872202   \n",
       "4   5   Cardano     0.2235 2018-03-22 14:04:07.873448   \n",
       "5   6   Stellar     0.2660 2018-03-22 14:04:07.874650   \n",
       "6   7      IOTA     1.4300 2018-03-22 14:04:07.876048   \n",
       "7   8  DigixDAO   366.7800 2018-03-22 14:04:07.877572   \n",
       "8   9    Hshare     6.5100 2018-03-22 14:04:07.879082   \n",
       "9  10      SALT     2.7600 2018-03-22 14:04:07.880485   \n",
       "\n",
       "                  updated_at  \n",
       "0 2018-03-22 14:04:07.868220  \n",
       "1 2018-03-22 14:04:07.869783  \n",
       "2 2018-03-22 14:04:07.871016  \n",
       "3 2018-03-22 14:04:07.872202  \n",
       "4 2018-03-22 14:04:07.873448  \n",
       "5 2018-03-22 14:04:07.874650  \n",
       "6 2018-03-22 14:04:07.876048  \n",
       "7 2018-03-22 14:04:07.877572  \n",
       "8 2018-03-22 14:04:07.879082  \n",
       "9 2018-03-22 14:04:07.880485  "
      ]
     },
     "execution_count": 54,
     "metadata": {},
     "output_type": "execute_result"
    }
   ],
   "source": [
    "currencies.head(10)"
   ]
  },
  {
   "cell_type": "markdown",
   "metadata": {},
   "source": [
    "#### Stav transakcie"
   ]
  },
  {
   "cell_type": "code",
   "execution_count": 65,
   "metadata": {},
   "outputs": [
    {
     "data": {
      "text/html": [
       "<div>\n",
       "<style scoped>\n",
       "    .dataframe tbody tr th:only-of-type {\n",
       "        vertical-align: middle;\n",
       "    }\n",
       "\n",
       "    .dataframe tbody tr th {\n",
       "        vertical-align: top;\n",
       "    }\n",
       "\n",
       "    .dataframe thead th {\n",
       "        text-align: right;\n",
       "    }\n",
       "</style>\n",
       "<table border=\"1\" class=\"dataframe\">\n",
       "  <thead>\n",
       "    <tr style=\"text-align: right;\">\n",
       "      <th></th>\n",
       "      <th>id</th>\n",
       "      <th>label</th>\n",
       "      <th>created_at</th>\n",
       "      <th>updated_at</th>\n",
       "    </tr>\n",
       "  </thead>\n",
       "  <tbody>\n",
       "    <tr>\n",
       "      <th>0</th>\n",
       "      <td>1</td>\n",
       "      <td>Done</td>\n",
       "      <td>2018-03-22 14:04:07.916948</td>\n",
       "      <td>2018-03-22 14:04:07.916948</td>\n",
       "    </tr>\n",
       "    <tr>\n",
       "      <th>1</th>\n",
       "      <td>2</td>\n",
       "      <td>Pending</td>\n",
       "      <td>2018-03-22 14:04:07.918351</td>\n",
       "      <td>2018-03-22 14:04:07.918351</td>\n",
       "    </tr>\n",
       "    <tr>\n",
       "      <th>2</th>\n",
       "      <td>3</td>\n",
       "      <td>Blocked</td>\n",
       "      <td>2018-03-22 14:04:07.919384</td>\n",
       "      <td>2018-03-22 14:04:07.919384</td>\n",
       "    </tr>\n",
       "    <tr>\n",
       "      <th>3</th>\n",
       "      <td>4</td>\n",
       "      <td>Not paid yet</td>\n",
       "      <td>2018-03-22 14:04:07.920338</td>\n",
       "      <td>2018-03-22 14:04:07.920338</td>\n",
       "    </tr>\n",
       "    <tr>\n",
       "      <th>4</th>\n",
       "      <td>5</td>\n",
       "      <td>Waiting for approval</td>\n",
       "      <td>2018-03-22 14:04:07.921288</td>\n",
       "      <td>2018-03-22 14:04:07.921288</td>\n",
       "    </tr>\n",
       "  </tbody>\n",
       "</table>\n",
       "</div>"
      ],
      "text/plain": [
       "   id                 label                 created_at  \\\n",
       "0   1                  Done 2018-03-22 14:04:07.916948   \n",
       "1   2               Pending 2018-03-22 14:04:07.918351   \n",
       "2   3               Blocked 2018-03-22 14:04:07.919384   \n",
       "3   4          Not paid yet 2018-03-22 14:04:07.920338   \n",
       "4   5  Waiting for approval 2018-03-22 14:04:07.921288   \n",
       "\n",
       "                  updated_at  \n",
       "0 2018-03-22 14:04:07.916948  \n",
       "1 2018-03-22 14:04:07.918351  \n",
       "2 2018-03-22 14:04:07.919384  \n",
       "3 2018-03-22 14:04:07.920338  \n",
       "4 2018-03-22 14:04:07.921288  "
      ]
     },
     "execution_count": 65,
     "metadata": {},
     "output_type": "execute_result"
    }
   ],
   "source": [
    "trans_state = pd.read_sql('select * from trans_states', con=conn)\n",
    "trans_state.head(5)"
   ]
  },
  {
   "cell_type": "markdown",
   "metadata": {},
   "source": [
    "#### Typy transakcii"
   ]
  },
  {
   "cell_type": "code",
   "execution_count": 67,
   "metadata": {},
   "outputs": [
    {
     "data": {
      "text/html": [
       "<div>\n",
       "<style scoped>\n",
       "    .dataframe tbody tr th:only-of-type {\n",
       "        vertical-align: middle;\n",
       "    }\n",
       "\n",
       "    .dataframe tbody tr th {\n",
       "        vertical-align: top;\n",
       "    }\n",
       "\n",
       "    .dataframe thead th {\n",
       "        text-align: right;\n",
       "    }\n",
       "</style>\n",
       "<table border=\"1\" class=\"dataframe\">\n",
       "  <thead>\n",
       "    <tr style=\"text-align: right;\">\n",
       "      <th></th>\n",
       "      <th>id</th>\n",
       "      <th>label</th>\n",
       "      <th>created_at</th>\n",
       "      <th>updated_at</th>\n",
       "    </tr>\n",
       "  </thead>\n",
       "  <tbody>\n",
       "    <tr>\n",
       "      <th>0</th>\n",
       "      <td>1</td>\n",
       "      <td>Money transfer from pool to account</td>\n",
       "      <td>2018-03-22 14:04:07.904351</td>\n",
       "      <td>2018-03-22 14:04:07.904351</td>\n",
       "    </tr>\n",
       "    <tr>\n",
       "      <th>1</th>\n",
       "      <td>2</td>\n",
       "      <td>Money transfer from account to pool</td>\n",
       "      <td>2018-03-22 14:04:07.905776</td>\n",
       "      <td>2018-03-22 14:04:07.905776</td>\n",
       "    </tr>\n",
       "    <tr>\n",
       "      <th>2</th>\n",
       "      <td>3</td>\n",
       "      <td>Money transfer between accounts</td>\n",
       "      <td>2018-03-22 14:04:07.906934</td>\n",
       "      <td>2018-03-22 14:04:07.906934</td>\n",
       "    </tr>\n",
       "    <tr>\n",
       "      <th>3</th>\n",
       "      <td>4</td>\n",
       "      <td>External money transfer</td>\n",
       "      <td>2018-03-22 14:04:07.908034</td>\n",
       "      <td>2018-03-22 14:04:07.908034</td>\n",
       "    </tr>\n",
       "    <tr>\n",
       "      <th>4</th>\n",
       "      <td>5</td>\n",
       "      <td>Bank fees</td>\n",
       "      <td>2018-03-22 14:04:07.909137</td>\n",
       "      <td>2018-03-22 14:04:07.909137</td>\n",
       "    </tr>\n",
       "  </tbody>\n",
       "</table>\n",
       "</div>"
      ],
      "text/plain": [
       "   id                                label                 created_at  \\\n",
       "0   1  Money transfer from pool to account 2018-03-22 14:04:07.904351   \n",
       "1   2  Money transfer from account to pool 2018-03-22 14:04:07.905776   \n",
       "2   3      Money transfer between accounts 2018-03-22 14:04:07.906934   \n",
       "3   4              External money transfer 2018-03-22 14:04:07.908034   \n",
       "4   5                            Bank fees 2018-03-22 14:04:07.909137   \n",
       "\n",
       "                  updated_at  \n",
       "0 2018-03-22 14:04:07.904351  \n",
       "1 2018-03-22 14:04:07.905776  \n",
       "2 2018-03-22 14:04:07.906934  \n",
       "3 2018-03-22 14:04:07.908034  \n",
       "4 2018-03-22 14:04:07.909137  "
      ]
     },
     "execution_count": 67,
     "metadata": {},
     "output_type": "execute_result"
    }
   ],
   "source": [
    "trans_type = pd.read_sql('select * from trans_types', con=conn)\n",
    "trans_type.head(5)"
   ]
  },
  {
   "cell_type": "markdown",
   "metadata": {},
   "source": [
    "#### Typy účtov"
   ]
  },
  {
   "cell_type": "code",
   "execution_count": 68,
   "metadata": {},
   "outputs": [
    {
     "data": {
      "text/html": [
       "<div>\n",
       "<style scoped>\n",
       "    .dataframe tbody tr th:only-of-type {\n",
       "        vertical-align: middle;\n",
       "    }\n",
       "\n",
       "    .dataframe tbody tr th {\n",
       "        vertical-align: top;\n",
       "    }\n",
       "\n",
       "    .dataframe thead th {\n",
       "        text-align: right;\n",
       "    }\n",
       "</style>\n",
       "<table border=\"1\" class=\"dataframe\">\n",
       "  <thead>\n",
       "    <tr style=\"text-align: right;\">\n",
       "      <th></th>\n",
       "      <th>id</th>\n",
       "      <th>label</th>\n",
       "      <th>created_at</th>\n",
       "      <th>updated_at</th>\n",
       "    </tr>\n",
       "  </thead>\n",
       "  <tbody>\n",
       "    <tr>\n",
       "      <th>0</th>\n",
       "      <td>1</td>\n",
       "      <td>Classic</td>\n",
       "      <td>2018-03-22 14:04:07.890920</td>\n",
       "      <td>2018-03-22 14:04:07.890920</td>\n",
       "    </tr>\n",
       "    <tr>\n",
       "      <th>1</th>\n",
       "      <td>2</td>\n",
       "      <td>Investing</td>\n",
       "      <td>2018-03-22 14:04:07.892440</td>\n",
       "      <td>2018-03-22 14:04:07.892440</td>\n",
       "    </tr>\n",
       "    <tr>\n",
       "      <th>2</th>\n",
       "      <td>3</td>\n",
       "      <td>Debet</td>\n",
       "      <td>2018-03-22 14:04:07.893543</td>\n",
       "      <td>2018-03-22 14:04:07.893543</td>\n",
       "    </tr>\n",
       "    <tr>\n",
       "      <th>3</th>\n",
       "      <td>4</td>\n",
       "      <td>Crypto Maniac</td>\n",
       "      <td>2018-03-22 14:04:07.895013</td>\n",
       "      <td>2018-03-22 14:04:07.895013</td>\n",
       "    </tr>\n",
       "    <tr>\n",
       "      <th>4</th>\n",
       "      <td>5</td>\n",
       "      <td>EXXXTREME Minner</td>\n",
       "      <td>2018-03-22 14:04:07.896120</td>\n",
       "      <td>2018-03-22 14:04:07.896120</td>\n",
       "    </tr>\n",
       "  </tbody>\n",
       "</table>\n",
       "</div>"
      ],
      "text/plain": [
       "   id             label                 created_at                 updated_at\n",
       "0   1           Classic 2018-03-22 14:04:07.890920 2018-03-22 14:04:07.890920\n",
       "1   2         Investing 2018-03-22 14:04:07.892440 2018-03-22 14:04:07.892440\n",
       "2   3             Debet 2018-03-22 14:04:07.893543 2018-03-22 14:04:07.893543\n",
       "3   4     Crypto Maniac 2018-03-22 14:04:07.895013 2018-03-22 14:04:07.895013\n",
       "4   5  EXXXTREME Minner 2018-03-22 14:04:07.896120 2018-03-22 14:04:07.896120"
      ]
     },
     "execution_count": 68,
     "metadata": {},
     "output_type": "execute_result"
    }
   ],
   "source": [
    "acc_type = pd.read_sql('select * from acc_types', con=conn)\n",
    "acc_type.head(5)"
   ]
  }
 ],
 "metadata": {
  "kernelspec": {
   "display_name": "Python 3",
   "language": "python",
   "name": "python3"
  },
  "language_info": {
   "codemirror_mode": {
    "name": "ipython",
    "version": 3
   },
   "file_extension": ".py",
   "mimetype": "text/x-python",
   "name": "python",
   "nbconvert_exporter": "python",
   "pygments_lexer": "ipython3",
   "version": "3.6.4"
  }
 },
 "nbformat": 4,
 "nbformat_minor": 2
}
